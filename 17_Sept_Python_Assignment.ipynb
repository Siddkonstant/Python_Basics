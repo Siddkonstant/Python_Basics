{
 "cells": [
  {
   "cell_type": "markdown",
   "id": "1705b371-cf43-464c-8c35-f76b2a1508b0",
   "metadata": {},
   "source": [
    "For Loop :-"
   ]
  },
  {
   "cell_type": "markdown",
   "id": "17a8fa28-41e8-4f56-afd9-1be227c93966",
   "metadata": {},
   "source": [
    "1. Write a Python program to print numbers from 1 to 10 using a for loop.\n"
   ]
  },
  {
   "cell_type": "code",
   "execution_count": 2,
   "id": "dc714024-d3de-427e-9758-6e61f14ccd25",
   "metadata": {},
   "outputs": [
    {
     "name": "stdout",
     "output_type": "stream",
     "text": [
      "1\n",
      "2\n",
      "3\n",
      "4\n",
      "5\n",
      "6\n",
      "7\n",
      "8\n",
      "9\n",
      "10\n"
     ]
    }
   ],
   "source": [
    "for i in range(1,11):\n",
    "    print (i)"
   ]
  },
  {
   "cell_type": "markdown",
   "id": "d03192b7-1ea2-4ff9-8f11-dbf5fea4833d",
   "metadata": {},
   "source": [
    "2. Explain the difference between a for loop and a while loop in Python.\n"
   ]
  },
  {
   "cell_type": "markdown",
   "id": "1e77f72e-b0a8-4202-9f68-e916d79c925f",
   "metadata": {},
   "source": [
    "Ans. \n",
    "     \n",
    "     For Loop :- (1)In For loop the number of iterations are already provided.\n",
    "                 (2)Code will run for infinite amount of time if conditions are not provided.\n",
    "                 (3)More efficient as predetermined iterations.\n",
    "     \n",
    "     While Loop :- (1)In while loop if the conditions are present then loop will keep on running.\n",
    "                   (2)It will error if conditions are not provided.\n",
    "                   (3)Can be fast in some cases."
   ]
  },
  {
   "cell_type": "markdown",
   "id": "83b764fb-796b-4181-838d-ef4fa74f99f0",
   "metadata": {},
   "source": [
    "3. Write a Python program to calculate the sum of all numbers from 1 to 100 using a for loop.\n"
   ]
  },
  {
   "cell_type": "code",
   "execution_count": 16,
   "id": "c72b92c9-8a31-47bf-915e-c3bfce52c94b",
   "metadata": {},
   "outputs": [
    {
     "name": "stdout",
     "output_type": "stream",
     "text": [
      "5050\n"
     ]
    }
   ],
   "source": [
    "sum_num = 0\n",
    "for i in range(1,101):\n",
    "    sum_num += i\n",
    "print(sum_num)"
   ]
  },
  {
   "cell_type": "markdown",
   "id": "c4d4bbda-bd69-43a8-b8de-b82736864366",
   "metadata": {},
   "source": [
    "4. How do you iterate through a list using a for loop in Python?\n"
   ]
  },
  {
   "cell_type": "code",
   "execution_count": 17,
   "id": "401ff9c7-9ee5-46b6-b101-ddf890d5811b",
   "metadata": {},
   "outputs": [
    {
     "name": "stdout",
     "output_type": "stream",
     "text": [
      "1\n",
      "2\n",
      "3\n",
      "6\n"
     ]
    }
   ],
   "source": [
    "list1 = [1,2,3,6]\n",
    "for i in list1:\n",
    "    print (i)"
   ]
  },
  {
   "cell_type": "markdown",
   "id": "74122aca-4108-4218-ab92-1fabe328d508",
   "metadata": {},
   "source": [
    "5. Write a Python program to find the product of all elements in a list using a for loop.\n"
   ]
  },
  {
   "cell_type": "code",
   "execution_count": 26,
   "id": "7c045413-f3ca-4364-87e0-ef58f2c0fa4b",
   "metadata": {},
   "outputs": [
    {
     "name": "stdout",
     "output_type": "stream",
     "text": [
      "36\n"
     ]
    }
   ],
   "source": [
    "list1 = [1,2,3,6]\n",
    "result = 1\n",
    "for i in list1:\n",
    "    result *= i\n",
    "print(result)"
   ]
  },
  {
   "cell_type": "markdown",
   "id": "1fa792bd-0364-4f9b-a9d6-a84f12eb6a97",
   "metadata": {},
   "source": [
    "6. Create a Python program that prints all even numbers from 1 to 20 using a for loop."
   ]
  },
  {
   "cell_type": "code",
   "execution_count": 25,
   "id": "f23d49a0-dd07-4160-817d-bd17dda5804a",
   "metadata": {},
   "outputs": [
    {
     "name": "stdout",
     "output_type": "stream",
     "text": [
      "2\n",
      "4\n",
      "6\n",
      "8\n",
      "10\n",
      "12\n",
      "14\n",
      "16\n",
      "18\n",
      "20\n"
     ]
    }
   ],
   "source": [
    "for i in range(2,21,2):\n",
    "    print(i)"
   ]
  },
  {
   "cell_type": "markdown",
   "id": "7d672aae-8aec-4c09-9ed7-eb3936ce4310",
   "metadata": {},
   "source": [
    "7. Write a Python program that calculates the factorial of a number using a for loop.\n",
    "\n",
    "    "
   ]
  },
  {
   "cell_type": "code",
   "execution_count": 31,
   "id": "f6dbb834-e6ec-4362-a93c-9297f53fcf4f",
   "metadata": {},
   "outputs": [
    {
     "name": "stdin",
     "output_type": "stream",
     "text": [
      "Enter positive number  5\n"
     ]
    },
    {
     "name": "stdout",
     "output_type": "stream",
     "text": [
      "120\n"
     ]
    }
   ],
   "source": [
    "num = int(input(\"Enter positive number \"))\n",
    "factorials = 1\n",
    "for i in range(1, num+1):\n",
    "          factorials *= i\n",
    "print(factorials)\n",
    "          "
   ]
  },
  {
   "cell_type": "markdown",
   "id": "0970e621-aae8-4402-a220-b046cecaa292",
   "metadata": {},
   "source": [
    "8. How can you iterate through the characters of a string using a for loop in Python?"
   ]
  },
  {
   "cell_type": "code",
   "execution_count": 33,
   "id": "070f6449-541f-4cd1-a483-2f804802e568",
   "metadata": {},
   "outputs": [
    {
     "name": "stdout",
     "output_type": "stream",
     "text": [
      "H\n",
      "e\n",
      "l\n",
      "l\n",
      "o\n"
     ]
    }
   ],
   "source": [
    "str1 = \"Hello\"\n",
    "for char in str1:\n",
    "    print (char)"
   ]
  },
  {
   "cell_type": "markdown",
   "id": "0e7cf205-0d6a-41d1-9f74-ba1ca4c100a1",
   "metadata": {},
   "source": [
    "9. Write a Python program to find the largest number in a list using a for loop.\n"
   ]
  },
  {
   "cell_type": "code",
   "execution_count": 42,
   "id": "dac8fedb-9df1-4161-8744-9719eab286c4",
   "metadata": {},
   "outputs": [
    {
     "name": "stdout",
     "output_type": "stream",
     "text": [
      "72\n"
     ]
    }
   ],
   "source": [
    "list1 = [2,54,67,34,72,12,32]\n",
    "maxl = list1[0]\n",
    "for i in list1:\n",
    "    if i > maxl:\n",
    "        maxl = i\n",
    "print (maxl)"
   ]
  },
  {
   "cell_type": "markdown",
   "id": "6447025a-0fd5-4056-8033-3a0d998e3a72",
   "metadata": {},
   "source": [
    "10. Create a Python program that prints the Fibonacci sequence up to a specified limit using a for loop."
   ]
  },
  {
   "cell_type": "code",
   "execution_count": 49,
   "id": "680a2145-727e-41a4-8efa-cc16e6981325",
   "metadata": {},
   "outputs": [
    {
     "name": "stdin",
     "output_type": "stream",
     "text": [
      "Enter the number 10\n"
     ]
    },
    {
     "name": "stdout",
     "output_type": "stream",
     "text": [
      "[0, 1, 1, 2, 3, 5, 8, 13, 21, 34]\n"
     ]
    }
   ],
   "source": [
    "num = int(input(\"Enter the number\"))\n",
    "fib_num = [0,1]\n",
    "for i in range(num - 2):\n",
    "          fib_num.append(fib_num[-1]+fib_num[-2])\n",
    "print(fib_num)\n",
    "          "
   ]
  },
  {
   "cell_type": "markdown",
   "id": "5e854d03-6173-4158-b087-b90985dd9152",
   "metadata": {},
   "source": [
    "11. Write a Python program to count the number of vowels in a given string using a for loop.\n"
   ]
  },
  {
   "cell_type": "code",
   "execution_count": 65,
   "id": "00d739ae-f9f0-4455-bc10-67ccd1d2d96c",
   "metadata": {},
   "outputs": [
    {
     "name": "stdout",
     "output_type": "stream",
     "text": [
      "3\n"
     ]
    }
   ],
   "source": [
    "string1 = \"Hello World\"\n",
    "count = 0\n",
    "vowels = \"aeiouAEIOU\"\n",
    "\n",
    "for char in string1:\n",
    "    if char in vowels:\n",
    "        count += 1\n",
    "print (count)    "
   ]
  },
  {
   "cell_type": "markdown",
   "id": "e7798505-6591-4a97-802a-916a95e30b02",
   "metadata": {},
   "source": [
    "12. Create a Python program that generates a multiplication table for a given number using a for loop.\n"
   ]
  },
  {
   "cell_type": "code",
   "execution_count": 70,
   "id": "9072627d-38b8-4a77-8542-f8a180d3a4a7",
   "metadata": {},
   "outputs": [
    {
     "name": "stdout",
     "output_type": "stream",
     "text": [
      "3\n",
      "6\n",
      "9\n",
      "12\n",
      "15\n",
      "18\n",
      "21\n",
      "24\n",
      "27\n",
      "30\n"
     ]
    }
   ],
   "source": [
    "num = 3\n",
    "for i in range(1,11):\n",
    "    result = num * i \n",
    "    print (result)"
   ]
  },
  {
   "cell_type": "markdown",
   "id": "82e20d31-28e6-4a3e-aa88-947cfecb4cc9",
   "metadata": {},
   "source": [
    "13. Write a Python program to reverse a list using a for loop.\n"
   ]
  },
  {
   "cell_type": "code",
   "execution_count": 71,
   "id": "73b13d24-72de-499b-9623-4c59fb94836f",
   "metadata": {},
   "outputs": [
    {
     "name": "stdout",
     "output_type": "stream",
     "text": [
      "[6, 5, 4, 3, 2, 1]\n"
     ]
    }
   ],
   "source": [
    "list1 = [1,2,3,4,5,6]\n",
    "reversed_list = []\n",
    "for char in list1:\n",
    "    reversed_list = [char] + reversed_list\n",
    "print(reversed_list)    \n",
    "    "
   ]
  },
  {
   "cell_type": "markdown",
   "id": "ba9d808a-89f0-40d8-af14-834ec28d7444",
   "metadata": {},
   "source": [
    "14. Write a Python program to find the common elements between two lists using a for loop."
   ]
  },
  {
   "cell_type": "code",
   "execution_count": 74,
   "id": "d448d473-83b3-48ef-b61c-3291a00a61df",
   "metadata": {},
   "outputs": [
    {
     "name": "stdout",
     "output_type": "stream",
     "text": [
      "[3, 4, 5]\n"
     ]
    }
   ],
   "source": [
    "list1 = [1,2,3,4,5]\n",
    "list2 = [3,4,5,6,7]\n",
    "common = []\n",
    "for item in list1:\n",
    "    if item in list2:\n",
    "        common.append(item)\n",
    "print(common)\n",
    "    "
   ]
  },
  {
   "cell_type": "markdown",
   "id": "fec81086-1d4b-4cb4-a57e-3f4c2a50188e",
   "metadata": {},
   "source": [
    "15. Explain how to use a for loop to iterate through the keys and values of a dictionary in Python."
   ]
  },
  {
   "cell_type": "code",
   "execution_count": 90,
   "id": "54317922-b8c9-4dae-b06e-09374da04601",
   "metadata": {},
   "outputs": [
    {
     "name": "stdout",
     "output_type": "stream",
     "text": [
      "Key: a, Value: 1\n",
      "Key: b, Value: 2\n",
      "Key: c, Value: 3\n",
      "Key: d, Value: 4\n"
     ]
    }
   ],
   "source": [
    "dict1 = {'a':1,'b':2,'c':3,'d':4}\n",
    "for key, value in dict1.items():\n",
    "    print(f\"Key: {key}, Value: {value}\") "
   ]
  },
  {
   "cell_type": "markdown",
   "id": "2e97e8e1-e5e7-44cf-a2cd-225a8312b8ef",
   "metadata": {},
   "source": [
    "16. Write a Python program to find the GCD (Greatest Common Divisor) of two numbers using a for loop"
   ]
  },
  {
   "cell_type": "code",
   "execution_count": 91,
   "id": "28696458-c282-43ac-806c-f93badf02b0f",
   "metadata": {},
   "outputs": [
    {
     "name": "stdin",
     "output_type": "stream",
     "text": [
      "Enter the first number:  5\n",
      "Enter the second number:  10\n"
     ]
    },
    {
     "name": "stdout",
     "output_type": "stream",
     "text": [
      "The GCD of 5 and 10 is: 5\n"
     ]
    }
   ],
   "source": [
    "def find_gcd(a, b):\n",
    "    while b:\n",
    "        a, b = b, a % b\n",
    "    return a\n",
    "\n",
    "num1 = int(input(\"Enter the first number: \"))\n",
    "num2 = int(input(\"Enter the second number: \"))\n",
    "\n",
    "gcd_result = find_gcd(num1, num2)\n",
    "print(f\"The GCD of {num1} and {num2} is: {gcd_result}\")\n"
   ]
  },
  {
   "cell_type": "markdown",
   "id": "4aef8f76-378e-4797-a103-cf516e594748",
   "metadata": {},
   "source": [
    "17. Create a Python program that checks if a string is a palindrome using a for loop.\n"
   ]
  },
  {
   "cell_type": "code",
   "execution_count": 103,
   "id": "4ce1f054-6e9a-4dc6-a30d-3e56e7eaa6a7",
   "metadata": {},
   "outputs": [
    {
     "name": "stdin",
     "output_type": "stream",
     "text": [
      "Enter the word  qwq\n"
     ]
    },
    {
     "name": "stdout",
     "output_type": "stream",
     "text": [
      "is palindrome\n"
     ]
    }
   ],
   "source": [
    "word1 = input(\"Enter the word \")\n",
    "word = word1.lower()\n",
    "length_word =int(len(word))\n",
    "\n",
    "for i in range(length_word // 2):\n",
    "    if word[i] == word[length_word-i-1]:\n",
    "        continue\n",
    "    else:\n",
    "        print(\"Not Palindrome\")\n",
    "        break\n",
    "else:\n",
    "    print(\"is palindrome\")"
   ]
  },
  {
   "cell_type": "markdown",
   "id": "73fcc77b-a9ae-437d-99a0-1020c3d5caee",
   "metadata": {},
   "source": [
    "18. Write a Python program to remove duplicates from a list using a for loop.\n"
   ]
  },
  {
   "cell_type": "code",
   "execution_count": 106,
   "id": "6df1d118-40c2-417f-a817-c68bb4d14e54",
   "metadata": {},
   "outputs": [
    {
     "name": "stdout",
     "output_type": "stream",
     "text": [
      "[1, 2, 3, 4, 5]\n"
     ]
    }
   ],
   "source": [
    "list1 = [1,1,2,2,3,3,4,4,5,5,5]\n",
    "list2 = []\n",
    "for item in list1:\n",
    "    if item not in list2:\n",
    "        list2.append(item)\n",
    "print(list2)        "
   ]
  },
  {
   "cell_type": "markdown",
   "id": "de651735-3a39-4ca6-935b-28b4e802c41c",
   "metadata": {},
   "source": [
    "19. Create a Python program that counts the number of words in a sentence using a for loop.\n"
   ]
  },
  {
   "cell_type": "code",
   "execution_count": 109,
   "id": "1356cbc4-c20d-4b33-8873-3818035ef9ae",
   "metadata": {},
   "outputs": [
    {
     "name": "stdout",
     "output_type": "stream",
     "text": [
      "10\n"
     ]
    }
   ],
   "source": [
    "string1 = (\"helloworld\")\n",
    "count = 0\n",
    "for i in string1:\n",
    "    count += 1\n",
    "print(count)    "
   ]
  },
  {
   "cell_type": "markdown",
   "id": "3773f389-4fe9-4deb-a441-ab30973f1c4e",
   "metadata": {},
   "source": [
    "20. Write a Python program to find the sum of all odd numbers from 1 to 50 using a for loop."
   ]
  },
  {
   "cell_type": "code",
   "execution_count": 112,
   "id": "03838a6d-101f-4dc4-bc60-cf0c74e099ff",
   "metadata": {},
   "outputs": [
    {
     "name": "stdout",
     "output_type": "stream",
     "text": [
      "625\n"
     ]
    }
   ],
   "source": [
    "result = 0\n",
    "for i in range(1,51,2):\n",
    "    result += i\n",
    "print(result)    "
   ]
  },
  {
   "cell_type": "markdown",
   "id": "c436c711-b8e4-4a53-a6c3-6e9bc826112c",
   "metadata": {},
   "source": [
    "21. Write a Python program that checks if a given year is a leap year using a for loop."
   ]
  },
  {
   "cell_type": "code",
   "execution_count": 9,
   "id": "3efe50df-aa3a-44ff-8e31-21d6f987b6c3",
   "metadata": {},
   "outputs": [
    {
     "name": "stdin",
     "output_type": "stream",
     "text": [
      "Please enter the year  2024\n"
     ]
    },
    {
     "name": "stdout",
     "output_type": "stream",
     "text": [
      "It is a leap year\n"
     ]
    }
   ],
   "source": [
    "year = int(input(\"Please enter the year \"))\n",
    "if ( year % 4 == 0 and year % 100 !=0) or (year % 400 == 0):\n",
    "    print (\"It is a leap year\")\n",
    "else:\n",
    "    print(\"It is not a leap year\")       "
   ]
  },
  {
   "cell_type": "markdown",
   "id": "46cd605a-ad52-4600-8ad7-a20b0888f1ee",
   "metadata": {},
   "source": [
    "22. Create a Python program that calculates the square root of a number using a for loop.\n"
   ]
  },
  {
   "cell_type": "code",
   "execution_count": 14,
   "id": "0e21171f-73ee-47b3-9bd1-34c454261309",
   "metadata": {},
   "outputs": [
    {
     "name": "stdin",
     "output_type": "stream",
     "text": [
      "Enter the number  4\n"
     ]
    },
    {
     "data": {
      "text/plain": [
       "2.0"
      ]
     },
     "execution_count": 14,
     "metadata": {},
     "output_type": "execute_result"
    }
   ],
   "source": [
    "def sqrt(nums, iter1=10):\n",
    "    guess = nums / 2.0\n",
    "    \n",
    "    for num in range(iter1):\n",
    "        guess = 0.5 * (guess + nums / guess)\n",
    "    return guess\n",
    "\n",
    "nums = float(input(\"Enter the number \"))\n",
    "sqrt(nums)"
   ]
  },
  {
   "cell_type": "markdown",
   "id": "398b49b3-7579-400a-81b2-8f795c23a4ea",
   "metadata": {},
   "source": [
    "23. Write a Python program to find the LCM (Least Common Multiple) of two numbers using a for loop."
   ]
  },
  {
   "cell_type": "code",
   "execution_count": 18,
   "id": "2d4652e9-2ffe-41b0-a302-ff7958d47c45",
   "metadata": {},
   "outputs": [
    {
     "name": "stdout",
     "output_type": "stream",
     "text": [
      "LCM of 15 and 20 is 60\n"
     ]
    }
   ],
   "source": [
    "num1 = 15\n",
    "num2 = 20\n",
    "for i in range(max(num1, num2) , 1 +(num1*num2)):\n",
    "    if i % num1 == 0 and i % num2 == 0:\n",
    "        lcm = i\n",
    "        break\n",
    "print(\"LCM of\", num1, \"and\", num2, \"is\", lcm)        \n",
    "        "
   ]
  },
  {
   "cell_type": "code",
   "execution_count": null,
   "id": "189e2ca3-8a82-4a75-9027-678ad2dca651",
   "metadata": {},
   "outputs": [],
   "source": []
  },
  {
   "cell_type": "markdown",
   "id": "323f3e2c-2494-4ea3-8be6-04e4cea74e81",
   "metadata": {},
   "source": [
    "If else :\n"
   ]
  },
  {
   "cell_type": "markdown",
   "id": "a939c071-0369-4604-9d18-2945b6164b76",
   "metadata": {},
   "source": [
    "1. Write a Python program to check if a number is positive, negative, or zero using an if-else statement."
   ]
  },
  {
   "cell_type": "code",
   "execution_count": 22,
   "id": "31a9b3fe-1b95-455d-b816-57595efe7973",
   "metadata": {},
   "outputs": [
    {
     "name": "stdin",
     "output_type": "stream",
     "text": [
      "Please enter the number:  0\n"
     ]
    },
    {
     "name": "stdout",
     "output_type": "stream",
     "text": [
      "zero\n"
     ]
    }
   ],
   "source": [
    "num = int(input(\"Please enter the number: \"))\n",
    "if num < 0:\n",
    "    print(\"Negative\")\n",
    "elif num > 0:\n",
    "    print(\"Positive\")\n",
    "else:\n",
    "    print(\"zero\")"
   ]
  },
  {
   "cell_type": "markdown",
   "id": "797da3d4-98e2-438c-97e2-f734acb258c8",
   "metadata": {},
   "source": [
    "2. Create a Python program that checks if a given number is even or odd using an if-else statement.\n"
   ]
  },
  {
   "cell_type": "code",
   "execution_count": 26,
   "id": "12008bcf-fbeb-4e90-9cf0-c9fccb05440b",
   "metadata": {},
   "outputs": [
    {
     "name": "stdin",
     "output_type": "stream",
     "text": [
      "Please enter the number:  5\n"
     ]
    },
    {
     "name": "stdout",
     "output_type": "stream",
     "text": [
      "Odd\n"
     ]
    }
   ],
   "source": [
    "num = int(input(\"Please enter the number: \"))\n",
    "if num % 2 == 0:\n",
    "    print(\"Even\")\n",
    "else:\n",
    "    print(\"Odd\")"
   ]
  },
  {
   "cell_type": "markdown",
   "id": "fcfa262a-0d3c-4171-8c5b-57b29dc44a76",
   "metadata": {},
   "source": [
    "3. How can you use nested if-else statements in Python, and provide an example?\n"
   ]
  },
  {
   "cell_type": "code",
   "execution_count": 31,
   "id": "dad0006b-a517-4dcd-a262-69f21761046e",
   "metadata": {},
   "outputs": [
    {
     "name": "stdin",
     "output_type": "stream",
     "text": [
      "Please enter the number:  5\n"
     ]
    },
    {
     "name": "stdout",
     "output_type": "stream",
     "text": [
      "Number is positive and odd\n"
     ]
    }
   ],
   "source": [
    "#Incorporating multiple if-else statement within an of-else statement is called nested if-else statement. \n",
    "\n",
    "num = int(input(\"Please enter the number: \"))\n",
    "if num >= 0:\n",
    "    if num % 2 == 0:\n",
    "        print(\"Number is positive and even\")\n",
    "    else:\n",
    "        print(\"Number is positive and odd\")\n",
    "else:\n",
    "    print(\"Number is Negative\")"
   ]
  },
  {
   "cell_type": "markdown",
   "id": "33db2331-33ed-46eb-97b7-8c32d6bf819d",
   "metadata": {},
   "source": [
    "4. Write a Python program to determine the largest of three numbers using if-else.\n"
   ]
  },
  {
   "cell_type": "code",
   "execution_count": 34,
   "id": "3c68aac8-9fd2-4493-ae5c-504d3f8514bb",
   "metadata": {},
   "outputs": [
    {
     "name": "stdin",
     "output_type": "stream",
     "text": [
      "Please enter the number:  1\n",
      "Please enter the number:  3\n",
      "Please enter the number:  2\n"
     ]
    },
    {
     "name": "stdout",
     "output_type": "stream",
     "text": [
      "Num2 is greatest\n"
     ]
    }
   ],
   "source": [
    "num1 = int(input(\"Please enter the number: \"))\n",
    "num2 = int(input(\"Please enter the number: \"))\n",
    "num3 = int(input(\"Please enter the number: \"))\n",
    "\n",
    "if num1 > num2 and num1>num3:\n",
    "    print(\"Num1 is greatest\")\n",
    "elif num2>num1 and num2>num3:\n",
    "    print(\"Num2 is greatest\")\n",
    "else:\n",
    "    print(\"Num3 is greatest\")\n"
   ]
  },
  {
   "cell_type": "markdown",
   "id": "1b7126ac-aa8a-4627-be65-d491fe483bd0",
   "metadata": {},
   "source": [
    "5. Write a Python program that calculates the absolute value of a number using if-else.\n"
   ]
  },
  {
   "cell_type": "code",
   "execution_count": 49,
   "id": "9766b885-7331-45bb-8d1b-b06721adc56e",
   "metadata": {},
   "outputs": [
    {
     "name": "stdin",
     "output_type": "stream",
     "text": [
      "Please enter the number:  -10\n"
     ]
    },
    {
     "name": "stdout",
     "output_type": "stream",
     "text": [
      "10\n"
     ]
    }
   ],
   "source": [
    "num = int(input(\"Please enter the number: \"))\n",
    "if num >= 0:\n",
    "    print(num)\n",
    "else:\n",
    "    print(-num)\n",
    "    \n",
    "\n",
    "    \n"
   ]
  },
  {
   "cell_type": "markdown",
   "id": "50f4745c-56d4-4363-9c35-92c0e34880fa",
   "metadata": {},
   "source": [
    "6. Create a Python program that checks if a given character is a vowel or consonant using if-else.\n"
   ]
  },
  {
   "cell_type": "code",
   "execution_count": 51,
   "id": "e7ce97ff-c448-4c30-9672-8cea07d1bc7f",
   "metadata": {},
   "outputs": [
    {
     "name": "stdin",
     "output_type": "stream",
     "text": [
      "Enter a character  b\n"
     ]
    },
    {
     "name": "stdout",
     "output_type": "stream",
     "text": [
      "It is consonant\n"
     ]
    }
   ],
   "source": [
    "char1 = str(input(\"Enter a character \"))\n",
    "\n",
    "if char1.lower() in \"aeiou\":\n",
    "    print(\"It is vowel\")\n",
    "else:\n",
    "    print(\"It is consonant\")"
   ]
  },
  {
   "cell_type": "markdown",
   "id": "bb48394a-6598-4dc3-bcdc-6aaf308a59aa",
   "metadata": {},
   "source": [
    "7. Write a Python program to determine if a user is eligible to vote based on their age using if-else.\n"
   ]
  },
  {
   "cell_type": "code",
   "execution_count": 55,
   "id": "b5e41d58-69c2-45f9-ae60-3e4a8cf1f699",
   "metadata": {},
   "outputs": [
    {
     "name": "stdin",
     "output_type": "stream",
     "text": [
      "Please enter your age  18\n"
     ]
    },
    {
     "name": "stdout",
     "output_type": "stream",
     "text": [
      "Eligible to vote\n"
     ]
    }
   ],
   "source": [
    "age = int(input(\"Please enter your age \"))\n",
    "\n",
    "if age >= 18:\n",
    "    print(\"Eligible to vote\")\n",
    "else:  \n",
    "    print(\"Grow up\")"
   ]
  },
  {
   "cell_type": "markdown",
   "id": "bc2498b8-4fd7-4a32-a1ab-f31bb9353517",
   "metadata": {},
   "source": [
    "8. Create a Python program that calculates the discount amount based on the purchase amount using if-else.\n"
   ]
  },
  {
   "cell_type": "code",
   "execution_count": 62,
   "id": "94c00671-97d9-42c8-af78-fca7142e91b4",
   "metadata": {},
   "outputs": [
    {
     "name": "stdin",
     "output_type": "stream",
     "text": [
      "Enter the purchase amount:  250\n"
     ]
    },
    {
     "name": "stdout",
     "output_type": "stream",
     "text": [
      "Total expense:  250.0\n",
      "total discount percentage:  10\n",
      "Final discount:  25.0\n",
      "Total Amount after Discount: Rs225.00\n"
     ]
    }
   ],
   "source": [
    "exp = float(input(\"Enter the purchase amount: \"))\n",
    "\n",
    "if exp >= 200:\n",
    "    discount = 10\n",
    "elif exp >= 100:\n",
    "    discount = 5\n",
    "else:\n",
    "    discount = 0\n",
    "    \n",
    "discount_amount = ((discount / 100) * exp)  \n",
    "\n",
    "print(\"Total expense: \", exp)\n",
    "print(\"total discount percentage: \", discount)\n",
    "print(\"Final discount: \",discount_amount)\n",
    "print(f\"Total Amount after Discount: Rs{exp - discount_amount:.2f}\")"
   ]
  },
  {
   "cell_type": "markdown",
   "id": "3206f2b0-60e2-42e6-af27-af9004904bfb",
   "metadata": {},
   "source": [
    "9. Write a Python program to check if a number is within a specified range using if-else.\n"
   ]
  },
  {
   "cell_type": "code",
   "execution_count": 66,
   "id": "ad37b518-c18b-4323-8480-738de6fa9b38",
   "metadata": {},
   "outputs": [
    {
     "name": "stdin",
     "output_type": "stream",
     "text": [
      "Please enter the number:  60\n"
     ]
    },
    {
     "name": "stdout",
     "output_type": "stream",
     "text": [
      "Out of bounds\n"
     ]
    }
   ],
   "source": [
    "num = int(input(\"Please enter the number: \"))\n",
    "\n",
    "lower_limit = 10\n",
    "upper_limit = 50\n",
    "\n",
    "if lower_limit <= num <= upper_limit:\n",
    "    print(\"It is within bounds\")\n",
    "else:\n",
    "    print(\"Out of bounds\")\n"
   ]
  },
  {
   "cell_type": "markdown",
   "id": "d854ba57-cb49-4f5b-87ed-318b30c8afc6",
   "metadata": {},
   "source": [
    "10. Create a Python program that determines the grade of a student based on their score using if-else.\n"
   ]
  },
  {
   "cell_type": "code",
   "execution_count": 75,
   "id": "44837d2e-b70c-4134-8cad-3748b97c05be",
   "metadata": {},
   "outputs": [
    {
     "name": "stdin",
     "output_type": "stream",
     "text": [
      "Enter the score : 12\n"
     ]
    },
    {
     "name": "stdout",
     "output_type": "stream",
     "text": [
      "Fail\n"
     ]
    }
   ],
   "source": [
    "score = float(input(\"Enter the score :\"))\n",
    "\n",
    "if score >= 90 and score <101:\n",
    "    print(\"Grade A\")\n",
    "elif score >=80 and score <90:\n",
    "    print(\"Grade B\")\n",
    "elif score >=70 and score <80:\n",
    "    print(\"Grade c\")\n",
    "elif score >=50 and score <70:\n",
    "    print(\"Grade D\")\n",
    "elif score <= 49 and score >=0:\n",
    "    print(\"Fail\")\n",
    "else:\n",
    "    print(\"Enter a valid score\")"
   ]
  },
  {
   "cell_type": "markdown",
   "id": "c428e982-edb2-4614-8752-79adda0a8223",
   "metadata": {},
   "source": [
    "11. Write a Python program to check if a string is empty or not using if-else.\n"
   ]
  },
  {
   "cell_type": "code",
   "execution_count": 77,
   "id": "dbe5967d-4d3d-479e-b722-f366008f1c4d",
   "metadata": {},
   "outputs": [
    {
     "name": "stdin",
     "output_type": "stream",
     "text": [
      "Enter a string:  \n"
     ]
    },
    {
     "name": "stdout",
     "output_type": "stream",
     "text": [
      "String is empty\n"
     ]
    }
   ],
   "source": [
    "user_input = input(\"Enter a string: \")\n",
    "\n",
    "if not user_input:\n",
    "    print(\"String is empty\")\n",
    "else:\n",
    "    print(\"String is not empty\")"
   ]
  },
  {
   "cell_type": "markdown",
   "id": "451c4499-6b3b-4b34-911f-4c1e119b362f",
   "metadata": {},
   "source": [
    "12. Create a Python program that identifies the type of a triangle (e.g., equilateral, isosceles, or scalene) based on input values using if-else."
   ]
  },
  {
   "cell_type": "code",
   "execution_count": 3,
   "id": "7b3447d1-a342-4a79-9cfa-332bb453589d",
   "metadata": {},
   "outputs": [
    {
     "name": "stdin",
     "output_type": "stream",
     "text": [
      "Enter the 1st side of triangle 1\n",
      "Enter the 2nd side of triangle 2\n",
      "Enter the 3rd side of triangle 3\n"
     ]
    },
    {
     "name": "stdout",
     "output_type": "stream",
     "text": [
      "Scalene triangle\n"
     ]
    }
   ],
   "source": [
    "a = int(input(\"Enter the 1st side of triangle\"))\n",
    "b = int(input(\"Enter the 2nd side of triangle\"))\n",
    "c = int(input(\"Enter the 3rd side of triangle\"))\n",
    "\n",
    "if a==b==c:\n",
    "    print(\"Equilateral triangle\")\n",
    "elif a==b or b==c or c==a:\n",
    "    print(\"Isosceles triangle\")\n",
    "else:\n",
    "    print(\"Scalene triangle\")"
   ]
  },
  {
   "cell_type": "markdown",
   "id": "e1da0472-9e17-491e-a611-09a65ded9638",
   "metadata": {},
   "source": [
    "13. Write a Python program to determine the day of the week based on a user-provided number using if-else.\n"
   ]
  },
  {
   "cell_type": "code",
   "execution_count": 5,
   "id": "813d47d0-e225-4515-8d25-ee057725b428",
   "metadata": {},
   "outputs": [
    {
     "name": "stdin",
     "output_type": "stream",
     "text": [
      "Enter a number from 1 to 7 5\n"
     ]
    },
    {
     "name": "stdout",
     "output_type": "stream",
     "text": [
      "Friday\n"
     ]
    }
   ],
   "source": [
    "a = int(input(\"Enter a number from 1 to 7\"))\n",
    "\n",
    "if a == 1:\n",
    "    print(\"Monday\")\n",
    "elif a == 2:\n",
    "    print(\"Tuesday\")\n",
    "elif a == 3:\n",
    "    print(\"Wednesday\")\n",
    "elif a == 4:\n",
    "    print(\"Thursday\")\n",
    "elif a == 5:\n",
    "    print(\"Friday\")\n",
    "elif a == 6:\n",
    "    print(\"Saturday\")\n",
    "elif a == 7:\n",
    "    print(\"Sunday\")\n",
    "else:\n",
    "    print(\"Invalid input\")"
   ]
  },
  {
   "cell_type": "markdown",
   "id": "0b04678b-e374-4b83-8f76-7a470d0cd196",
   "metadata": {},
   "source": [
    "14. Create a Python program that checks if a given year is a leap year using both if-else and a function.\n"
   ]
  },
  {
   "cell_type": "code",
   "execution_count": 6,
   "id": "fd471182-5723-42ad-8ff1-6ea65699e5e2",
   "metadata": {},
   "outputs": [
    {
     "name": "stdin",
     "output_type": "stream",
     "text": [
      "Enter the year 2024\n"
     ]
    },
    {
     "name": "stdout",
     "output_type": "stream",
     "text": [
      "Its leap year\n"
     ]
    }
   ],
   "source": [
    "def leap_year(year):\n",
    "    if (year % 4 == 0 and year%100 != 0) or (year % 400 == 0):\n",
    "        print(\"Its leap year\")\n",
    "    else:\n",
    "        print(\"Not a leap year\")\n",
    "        \n",
    "year = int(input(\"Enter the year\"))\n",
    "leap_year(year)\n",
    "\n",
    "           "
   ]
  },
  {
   "cell_type": "markdown",
   "id": "99ebe55e-529c-4532-a80d-aef205a930f5",
   "metadata": {},
   "source": [
    "15. How do you use the \"assert\" statement in Python to add debugging checks within if-else blocks?\n"
   ]
  },
  {
   "cell_type": "code",
   "execution_count": 11,
   "id": "cda3624d-80b9-4a50-93b9-a485d8158348",
   "metadata": {},
   "outputs": [
    {
     "ename": "AssertionError",
     "evalue": "Error:Division by zero. LOL",
     "output_type": "error",
     "traceback": [
      "\u001b[0;31m---------------------------------------------------------------------------\u001b[0m",
      "\u001b[0;31mAssertionError\u001b[0m                            Traceback (most recent call last)",
      "Cell \u001b[0;32mIn[11], line 8\u001b[0m\n\u001b[1;32m      5\u001b[0m a \u001b[38;5;241m=\u001b[39m \u001b[38;5;241m10\u001b[39m\n\u001b[1;32m      6\u001b[0m b \u001b[38;5;241m=\u001b[39m \u001b[38;5;241m0\u001b[39m\n\u001b[0;32m----> 8\u001b[0m result \u001b[38;5;241m=\u001b[39m \u001b[43mdivide\u001b[49m\u001b[43m(\u001b[49m\u001b[43ma\u001b[49m\u001b[43m,\u001b[49m\u001b[43m \u001b[49m\u001b[43mb\u001b[49m\u001b[43m)\u001b[49m\n\u001b[1;32m      9\u001b[0m \u001b[38;5;28mprint\u001b[39m(result)\n",
      "Cell \u001b[0;32mIn[11], line 2\u001b[0m, in \u001b[0;36mdivide\u001b[0;34m(a, b)\u001b[0m\n\u001b[1;32m      1\u001b[0m \u001b[38;5;28;01mdef\u001b[39;00m \u001b[38;5;21mdivide\u001b[39m(a,b):\n\u001b[0;32m----> 2\u001b[0m     \u001b[38;5;28;01massert\u001b[39;00m b \u001b[38;5;241m!=\u001b[39m \u001b[38;5;241m0\u001b[39m , \u001b[38;5;124m\"\u001b[39m\u001b[38;5;124mError:Division by zero. LOL\u001b[39m\u001b[38;5;124m\"\u001b[39m\n\u001b[1;32m      3\u001b[0m     \u001b[38;5;28;01mreturn\u001b[39;00m a \u001b[38;5;241m/\u001b[39m b\n",
      "\u001b[0;31mAssertionError\u001b[0m: Error:Division by zero. LOL"
     ]
    }
   ],
   "source": [
    "def divide(a,b):\n",
    "    assert b != 0 , \"Error:Division by zero. LOL\"\n",
    "    return a / b\n",
    "\n",
    "a = 10\n",
    "b = 0\n",
    "\n",
    "result = divide(a, b)\n",
    "print(result)\n",
    "\n",
    "    "
   ]
  },
  {
   "cell_type": "markdown",
   "id": "95bb787d-7cb2-4066-9704-87e8f053d5c3",
   "metadata": {},
   "source": [
    "16. Create a Python program that determines the eligibility of a person for a senior citizen discount based on age using if-else."
   ]
  },
  {
   "cell_type": "code",
   "execution_count": 13,
   "id": "ddeb0300-9596-4a8c-ad14-d7eac312ac53",
   "metadata": {},
   "outputs": [
    {
     "name": "stdin",
     "output_type": "stream",
     "text": [
      "Please enter your age 65\n"
     ]
    },
    {
     "name": "stdout",
     "output_type": "stream",
     "text": [
      "Congratulations! You are eligible for a senior citizen discount.\n"
     ]
    }
   ],
   "source": [
    "age = int(input(\"Please enter your age\"))\n",
    "if age > 60:\n",
    "    print(\"Congratulations! You are eligible for a senior citizen discount.\")    \n",
    "else:\n",
    "    print(\"Sorry, you are not eligible for a senior citizen discount.\")\n",
    "\n",
    "\n",
    "   \n",
    "    "
   ]
  },
  {
   "cell_type": "markdown",
   "id": "d2ff6fe0-a9d6-4497-b1fc-dfbb51560e41",
   "metadata": {},
   "source": [
    "17. Write a Python program to categorize a given character as uppercase, lowercase, or neither using if-else.\n"
   ]
  },
  {
   "cell_type": "code",
   "execution_count": 16,
   "id": "8729f8b2-63d9-47ca-91a4-2e99995b7a19",
   "metadata": {},
   "outputs": [
    {
     "name": "stdin",
     "output_type": "stream",
     "text": [
      "Enter a character 1\n"
     ]
    },
    {
     "name": "stdout",
     "output_type": "stream",
     "text": [
      "1 is neither uppercase nor lowercase.\n"
     ]
    }
   ],
   "source": [
    "a = str(input(\"Enter a character\"))\n",
    "if a.isalpha():\n",
    "    if a.isupper():\n",
    "        print(\"The character is upper\")\n",
    "    elif a.islower():\n",
    "        print(\"The character is lower.\")\n",
    "else:\n",
    "    print(f\"{a} is neither uppercase nor lowercase.\")\n",
    "\n",
    "        "
   ]
  },
  {
   "cell_type": "markdown",
   "id": "65ca92b1-ab4f-46bf-8349-0a7b69aa4b4e",
   "metadata": {},
   "source": [
    "18. Write a Python program to determine the roots of a quadratic equation using if-else.\n"
   ]
  },
  {
   "cell_type": "code",
   "execution_count": 17,
   "id": "34d21c17-8fe6-48e9-8f62-b238af799d7c",
   "metadata": {},
   "outputs": [
    {
     "name": "stdin",
     "output_type": "stream",
     "text": [
      "Enter the coefficient 'a':  2\n",
      "Enter the coefficient 'b':  2\n",
      "Enter the coefficient 'c':  2\n"
     ]
    },
    {
     "name": "stdout",
     "output_type": "stream",
     "text": [
      "The roots are complex conjugates: -0.5 + 0.8660254037844386i and -0.5 - 0.8660254037844386i\n"
     ]
    }
   ],
   "source": [
    "a = float(input(\"Enter the coefficient 'a': \"))\n",
    "b = float(input(\"Enter the coefficient 'b': \"))\n",
    "c = float(input(\"Enter the coefficient 'c': \"))\n",
    "\n",
    "discriminant = b**2 - 4*a*c\n",
    "\n",
    "if discriminant > 0:\n",
    "    root1 = (-b + (discriminant**0.5)) / (2*a)\n",
    "    root2 = (-b - (discriminant**0.5)) / (2*a)\n",
    "    print(f\"The roots are real and distinct: {root1} and {root2}\")\n",
    "elif discriminant == 0:\n",
    "    root = -b / (2*a)\n",
    "    print(f\"The root is real and equal: {root}\")\n",
    "else:\n",
    "    real_part = -b / (2*a)\n",
    "    imaginary_part = (abs(discriminant)**0.5) / (2*a)\n",
    "    root1 = f\"{real_part} + {imaginary_part}i\"\n",
    "    root2 = f\"{real_part} - {imaginary_part}i\"\n",
    "    print(f\"The roots are complex conjugates: {root1} and {root2}\")\n"
   ]
  },
  {
   "cell_type": "markdown",
   "id": "c1b58482-a0a7-4719-a172-29ba1f19764f",
   "metadata": {},
   "source": [
    "19. Create a Python program that checks if a given year is a century year or not using if-else."
   ]
  },
  {
   "cell_type": "code",
   "execution_count": 32,
   "id": "805db71a-9a18-4bbf-b6a5-9a51684df865",
   "metadata": {},
   "outputs": [
    {
     "name": "stdin",
     "output_type": "stream",
     "text": [
      "Please enter the year 2000\n"
     ]
    },
    {
     "name": "stdout",
     "output_type": "stream",
     "text": [
      "20 Century\n"
     ]
    }
   ],
   "source": [
    "year = int(input(\"Please enter the year\"))    \n",
    "\n",
    "if year <= 0:\n",
    "    print(\"Please enter a valid year\")\n",
    "elif year <= 100:\n",
    "    print(\"1st Century\")\n",
    "elif (year % 100 == 0):\n",
    "    print (year // 100, \"Century\")\n",
    "else:\n",
    "    print (year // 100 +1, \"Century\")\n",
    "    \n",
    "    "
   ]
  },
  {
   "cell_type": "markdown",
   "id": "3b7efb65-f1f5-44aa-b289-046808f5b3d9",
   "metadata": {},
   "source": [
    "20. Write a Python program to determine if a given number is a perfect square using if-else.\n"
   ]
  },
  {
   "cell_type": "code",
   "execution_count": 38,
   "id": "35968d90-9712-4524-a219-145d9a2eca42",
   "metadata": {},
   "outputs": [
    {
     "name": "stdin",
     "output_type": "stream",
     "text": [
      "Enter the number  100\n"
     ]
    },
    {
     "name": "stdout",
     "output_type": "stream",
     "text": [
      "It is a perfect square\n"
     ]
    }
   ],
   "source": [
    "num = int(input(\"Enter the number \"))\n",
    "\n",
    "if num > 0 and (num**0.5).is_integer():\n",
    "    print(\"It is a perfect square\")\n",
    "else:\n",
    "    print(\"It is not a perfect square\")"
   ]
  },
  {
   "cell_type": "markdown",
   "id": "8581a1e2-fc21-42be-8e8d-a3044c8baa48",
   "metadata": {},
   "source": [
    "21. Explain the purpose of the \"continue\" and \"break\" statements within if-else loops.\n"
   ]
  },
  {
   "cell_type": "markdown",
   "id": "fb730fd8-1ba4-416f-98dc-b131db96915b",
   "metadata": {},
   "source": [
    "Continue - It helps to skip a particular iteration of a loop. It does not stop the complete execution of the loop rather it just skips the specific iteration and moves on with the next iteration.\n",
    "Break - The break statement helps to exit the loop before even before the termination conditions of the loop are met. "
   ]
  },
  {
   "cell_type": "markdown",
   "id": "fddc2ec6-b3f8-48bf-b3da-399439be1408",
   "metadata": {},
   "source": [
    "22. Create a Python program that calculates the BMI (Body Mass Index) of a person based on their weight and height using if-else.\n"
   ]
  },
  {
   "cell_type": "code",
   "execution_count": 44,
   "id": "65ae812d-0ed7-432d-b1d6-5b39928af012",
   "metadata": {},
   "outputs": [
    {
     "name": "stdin",
     "output_type": "stream",
     "text": [
      "Enter the weight in kg:  78\n",
      "Enter the height in meters:  1.8\n"
     ]
    },
    {
     "name": "stdout",
     "output_type": "stream",
     "text": [
      "Normal\n"
     ]
    }
   ],
   "source": [
    "weight = float(input(\"Enter the weight in kg: \"))\n",
    "height = float(input(\"Enter the height in meters: \"))\n",
    "\n",
    "bmi = weight / (height ** 2)\n",
    "\n",
    "if bmi < 18.5:\n",
    "    print(\"Underweight\")\n",
    "elif 18.5 <= bmi < 25:\n",
    "    print(\"Normal\")\n",
    "elif 25 <= bmi < 30:\n",
    "    print(\"Overweight\")\n",
    "else:\n",
    "    print(\"Obese\")\n"
   ]
  },
  {
   "cell_type": "markdown",
   "id": "a8e2947c-7d3c-4a2a-b7d5-a57272c41d48",
   "metadata": {},
   "source": [
    "23. How can you use the \"filter()\" function with if-else statements to filter elements from a list?"
   ]
  },
  {
   "cell_type": "code",
   "execution_count": 48,
   "id": "551e95fb-865b-4ba3-8545-9ee7beec617c",
   "metadata": {},
   "outputs": [
    {
     "name": "stdout",
     "output_type": "stream",
     "text": [
      "[2, 4, 6, 8, 10]\n"
     ]
    }
   ],
   "source": [
    "numbers = [1, 2, 3, 4, 5, 6, 7, 8, 9, 10]\n",
    "\n",
    "f_num = filter(lambda x : x % 2 == 0, numbers)\n",
    "\n",
    "print(list(f_num))\n"
   ]
  },
  {
   "cell_type": "markdown",
   "id": "10bd863c-cd26-471d-ac62-de1c3acb8e5e",
   "metadata": {},
   "source": [
    "24. Write a Python program to determine if a given number is prime or not using if-else."
   ]
  },
  {
   "cell_type": "code",
   "execution_count": 51,
   "id": "c7439486-02af-4cd3-afbc-29c85936e77d",
   "metadata": {},
   "outputs": [
    {
     "name": "stdin",
     "output_type": "stream",
     "text": [
      "Enter the number 7\n"
     ]
    },
    {
     "name": "stdout",
     "output_type": "stream",
     "text": [
      "7 is a prime number.\n"
     ]
    }
   ],
   "source": [
    "number = int(input(\"Enter the number\"))\n",
    "\n",
    "if number > 1:\n",
    "    for i in range(2, int(number**0.5)+1):\n",
    "        if (number % i) == 0:\n",
    "            print(f\"{number} is not a prime number.\")\n",
    "            break\n",
    "    else:\n",
    "        print(f\"{number} is a prime number.\")        \n"
   ]
  },
  {
   "cell_type": "code",
   "execution_count": null,
   "id": "e8902eb8-33f8-4ea3-a9d2-ed85e94d4f7f",
   "metadata": {},
   "outputs": [],
   "source": []
  },
  {
   "cell_type": "markdown",
   "id": "bc66ef17-f57c-44d4-b402-04a46718eed6",
   "metadata": {},
   "source": [
    "Map :-\n"
   ]
  },
  {
   "cell_type": "markdown",
   "id": "adbfcc38-2261-4644-9848-842c1ceb6ef7",
   "metadata": {},
   "source": [
    "1. Explain the purpose of the `map()` function in Python and provide an example of how it can be used to apply a function to each element of an iterable.\n"
   ]
  },
  {
   "cell_type": "code",
   "execution_count": 1,
   "id": "61055279-88d1-4996-8ff6-52e218fd2ab0",
   "metadata": {},
   "outputs": [
    {
     "name": "stdout",
     "output_type": "stream",
     "text": [
      "[1, 4, 9, 16, 25]\n"
     ]
    }
   ],
   "source": [
    "# The map() function in python that applies a specific function to all items in an iterable(eg. list) and return an iterator that produces the result. \n",
    "# So it allows you to perform the same operation on each element of a collection without any explicit loop.\n",
    "\n",
    "numbers = [1,2,3,4,5]\n",
    "\n",
    "square_numbers = map(lambda x: x ** 2, numbers)\n",
    "\n",
    "result_list = list(square_numbers)\n",
    "print(result_list)\n",
    "\n"
   ]
  },
  {
   "cell_type": "markdown",
   "id": "7303d417-09e8-49a8-95b9-1a98c830eeeb",
   "metadata": {},
   "source": [
    "2. Write a Python program that uses the `map()` function to square each element of a list of numbers.\n"
   ]
  },
  {
   "cell_type": "code",
   "execution_count": 2,
   "id": "b02f59a5-21f7-4b4b-a920-9e170193966e",
   "metadata": {},
   "outputs": [
    {
     "name": "stdout",
     "output_type": "stream",
     "text": [
      "[1, 4, 9, 16, 25]\n"
     ]
    }
   ],
   "source": [
    "numbers = [1,2,3,4,5]\n",
    "\n",
    "squared_list = map(lambda x:x**2, numbers)\n",
    "\n",
    "result = list(squared_list)\n",
    "print(result)"
   ]
  },
  {
   "cell_type": "markdown",
   "id": "04a04dca-ef55-42a0-a528-75539104d1e8",
   "metadata": {},
   "source": [
    "3. How does the `map()` function differ from a list comprehension in Python, and when would you choose one over the other?\n"
   ]
  },
  {
   "cell_type": "code",
   "execution_count": null,
   "id": "e1880dcc-4623-4cc3-bbc4-c36377d43477",
   "metadata": {},
   "outputs": [],
   "source": []
  },
  {
   "cell_type": "markdown",
   "id": "11e4b045-4104-4999-a2a6-6b93ac642d4c",
   "metadata": {},
   "source": [
    "4. Create a Python program that uses the `map()` function to convert a list of names to uppercase.\n"
   ]
  },
  {
   "cell_type": "code",
   "execution_count": 15,
   "id": "ec28dcc9-aec1-4dfa-b505-791c85da4328",
   "metadata": {},
   "outputs": [
    {
     "name": "stdout",
     "output_type": "stream",
     "text": [
      "['SID', 'RAM', 'LAXMAN']\n"
     ]
    }
   ],
   "source": [
    "name = [\"sid\",\"ram\",\"laxman\"]\n",
    "\n",
    "new_list = map(str.upper, name)\n",
    "result = list(new_list)\n",
    "print(result)"
   ]
  },
  {
   "cell_type": "markdown",
   "id": "461847ec-5384-4865-8317-a1a4018dafee",
   "metadata": {},
   "source": [
    "5. Write a Python program that uses the `map()` function to calculate the length of each word in a list of strings.\n"
   ]
  },
  {
   "cell_type": "code",
   "execution_count": 16,
   "id": "8719ee4b-9973-4a9d-909f-77cae7d839df",
   "metadata": {},
   "outputs": [
    {
     "name": "stdin",
     "output_type": "stream",
     "text": [
      "Enter a string hello world\n"
     ]
    },
    {
     "name": "stdout",
     "output_type": "stream",
     "text": [
      "[5, 5]\n"
     ]
    }
   ],
   "source": [
    "str1 = input(\"Enter a string\").split()\n",
    "\n",
    "lemgth = map(len, str1)\n",
    "\n",
    "result = list(lemgth)\n",
    "print(result)"
   ]
  },
  {
   "cell_type": "markdown",
   "id": "4f0307a5-522a-475e-a40d-501f34c500f0",
   "metadata": {},
   "source": [
    "6. How can you use the `map()` function to apply a custom function to elements of multiple lists simultaneously in Python?\n"
   ]
  },
  {
   "cell_type": "code",
   "execution_count": 4,
   "id": "42eeeb48-1753-4f42-abf2-b9fa22a17575",
   "metadata": {},
   "outputs": [
    {
     "name": "stdout",
     "output_type": "stream",
     "text": [
      "List 1: [1, 2, 3, 4]\n",
      "List 2: [5, 6, 7, 8]\n",
      "Final list: [6, 8, 10, 12]\n"
     ]
    }
   ],
   "source": [
    "def add_list(list1, list2):\n",
    "    return list1 + list2\n",
    "\n",
    "list1 = [1, 2, 3, 4]\n",
    "list2 = [5, 6, 7, 8]\n",
    "\n",
    "result = map(add_list, list1, list2)\n",
    "\n",
    "result_list = list(result)\n",
    "\n",
    "print(\"List 1:\", list1)\n",
    "print(\"List 2:\", list2)\n",
    "print(\"Final list:\", result_list)"
   ]
  },
  {
   "cell_type": "markdown",
   "id": "03649ee2-1903-47df-afe9-c6226c81ed51",
   "metadata": {},
   "source": [
    "7. Create a Python program that uses `map()` to convert a list of temperatures from Celsius to Fahrenheit.\n"
   ]
  },
  {
   "cell_type": "code",
   "execution_count": 14,
   "id": "588f0afc-60ab-4959-ba0d-e03a3d5b044a",
   "metadata": {},
   "outputs": [
    {
     "name": "stdout",
     "output_type": "stream",
     "text": [
      "[32.0, 50.0, 68.0, 86.0, 104.0]\n"
     ]
    }
   ],
   "source": [
    "def temp_change(celsius):\n",
    "    return (celsius * 1.8)+32\n",
    "\n",
    "temp_c = [0, 10, 20, 30, 40]\n",
    "\n",
    "temp_f = map(temp_change, temp_c)\n",
    "\n",
    "temp_fc = list(temp_f)\n",
    "print(temp_fc)\n",
    "\n"
   ]
  },
  {
   "cell_type": "markdown",
   "id": "2dfe5b02-aef5-4114-a25a-1628b97adddd",
   "metadata": {},
   "source": [
    "8. Write a Python program that uses the `map()` function to round each element of a list of floating-point numbers to the nearest integer.\n"
   ]
  },
  {
   "cell_type": "code",
   "execution_count": 19,
   "id": "37f84b8c-6847-4c45-99dd-d48449ff4be2",
   "metadata": {},
   "outputs": [
    {
     "name": "stdout",
     "output_type": "stream",
     "text": [
      "[3, 3, 6, 9, 1]\n"
     ]
    }
   ],
   "source": [
    "float_numbers = [3.14, 2.71, 5.5, 8.9, 1.23]\n",
    "\n",
    "result = map(round,float_numbers)\n",
    "result_list = list(result)\n",
    "print(result_list)"
   ]
  },
  {
   "cell_type": "code",
   "execution_count": null,
   "id": "c2703371-b743-416c-a086-4f12dfa447d8",
   "metadata": {},
   "outputs": [],
   "source": []
  },
  {
   "cell_type": "markdown",
   "id": "697ac160-4b44-421d-8f94-8129eac3edad",
   "metadata": {},
   "source": [
    "Reduce :-"
   ]
  },
  {
   "cell_type": "markdown",
   "id": "930cb126-94da-4b5e-b8cd-15781f108301",
   "metadata": {},
   "source": [
    "1. What is the `reduce()` function in Python, and what module should you import to use it? Provide an example of its basic usage.\n"
   ]
  },
  {
   "cell_type": "code",
   "execution_count": 1,
   "id": "7a1561a0-cfdd-4883-b84f-9a90ad2d5857",
   "metadata": {},
   "outputs": [
    {
     "name": "stdout",
     "output_type": "stream",
     "text": [
      "15\n"
     ]
    }
   ],
   "source": [
    "\"\"\"Reduce() is a higher order function that applies a function to a sequence and returns a single value. it is part of functools module in python and has following syntax.\n",
    "reduce(function,iterable)\"\"\"\n",
    "\n",
    "from functools import reduce\n",
    "number = [1,2,3,4,5]\n",
    "\n",
    "sum = reduce(lambda x,y: x+y, number)\n",
    "\n",
    "print(sum)"
   ]
  },
  {
   "cell_type": "markdown",
   "id": "162201ac-5ef7-4f18-bd56-0134703bf9c1",
   "metadata": {},
   "source": [
    "2. Write a Python program that uses the `reduce()` function to find the product of all elements in a list.\n"
   ]
  },
  {
   "cell_type": "code",
   "execution_count": 5,
   "id": "6f3b47aa-91cb-4afd-ab07-6e539ca605b9",
   "metadata": {},
   "outputs": [
    {
     "name": "stdout",
     "output_type": "stream",
     "text": [
      "21\n"
     ]
    }
   ],
   "source": [
    "list1 = [1,2,3,4,5,6]\n",
    "\n",
    "from functools import reduce\n",
    "\n",
    "sum = reduce(lambda x,y:x+y , list1)\n",
    "\n",
    "print(sum)"
   ]
  },
  {
   "cell_type": "markdown",
   "id": "c6e11a12-7127-4301-b5b9-5381748a0c8a",
   "metadata": {},
   "source": [
    "3. Create a Python program that uses `reduce()` to find the maximum element in a list of numbers."
   ]
  },
  {
   "cell_type": "code",
   "execution_count": 7,
   "id": "488f143a-b811-4d4c-a992-eaf464953cfc",
   "metadata": {},
   "outputs": [
    {
     "name": "stdout",
     "output_type": "stream",
     "text": [
      "11\n"
     ]
    }
   ],
   "source": [
    "from functools import reduce\n",
    "\n",
    "list1 = [11,2,3,4,5]\n",
    "\n",
    "bigg = reduce(max,list1)\n",
    "print(bigg)"
   ]
  },
  {
   "cell_type": "markdown",
   "id": "3ec9730f-6a6d-4666-bb51-f89edf4bb3da",
   "metadata": {},
   "source": [
    "4. How can you use the `reduce()` function to concatenate a list of strings into a single string?\n"
   ]
  },
  {
   "cell_type": "code",
   "execution_count": 9,
   "id": "a30c1ee7-484d-46cc-a603-e6cecee24321",
   "metadata": {},
   "outputs": [
    {
     "name": "stdout",
     "output_type": "stream",
     "text": [
      "Python Reduce Function Tutorial\n"
     ]
    }
   ],
   "source": [
    "from functools import reduce\n",
    "words = ['Python', 'Reduce', 'Function', 'Tutorial']\n",
    "\n",
    "sentence = reduce(lambda x,y: x + \" \"+ y, words)\n",
    "\n",
    "print(sentence)"
   ]
  },
  {
   "cell_type": "markdown",
   "id": "f42eb1c2-94b7-4618-8c8e-0899037b5a9a",
   "metadata": {},
   "source": [
    "5. Write a Python program that calculates the factorial of a number using the `reduce()` function.\n"
   ]
  },
  {
   "cell_type": "code",
   "execution_count": 18,
   "id": "64069987-57bb-4d34-a421-49fe6f9687ba",
   "metadata": {},
   "outputs": [
    {
     "name": "stdin",
     "output_type": "stream",
     "text": [
      "Enter number 3\n"
     ]
    },
    {
     "name": "stdout",
     "output_type": "stream",
     "text": [
      "6\n"
     ]
    }
   ],
   "source": [
    "from functools import reduce\n",
    "\n",
    "number = int(input(\"Enter number\"))\n",
    "\n",
    "fact = reduce(lambda x,y: x*y, range(1,number+1))\n",
    "\n",
    "print(fact)"
   ]
  },
  {
   "cell_type": "markdown",
   "id": "90fcf1fd-29aa-4be5-ab99-cc59ddccf8af",
   "metadata": {},
   "source": [
    "6. Create a Python program that uses `reduce()` to find the GCD (Greatest Common Divisor) of a list of numbers.\n"
   ]
  },
  {
   "cell_type": "code",
   "execution_count": 25,
   "id": "eac39cf8-c9ae-4487-a8c4-cbf219aa7216",
   "metadata": {},
   "outputs": [
    {
     "data": {
      "text/plain": [
       "12"
      ]
     },
     "execution_count": 25,
     "metadata": {},
     "output_type": "execute_result"
    }
   ],
   "source": [
    "from functools import reduce\n",
    "\n",
    "gcd = lambda x,y: x if y == 0 else gcd(y, x%y)\n",
    "\n",
    "def find_gcd(num):\n",
    "    return reduce(gcd, num)\n",
    "\n",
    "num_list = [60, 48, 36, 24]\n",
    "find_gcd(num_list)"
   ]
  },
  {
   "cell_type": "markdown",
   "id": "e721456b-5975-40f0-b7c2-b4e5ba279b50",
   "metadata": {},
   "source": [
    "7. Write a Python program that uses the `reduce()` function to find the sum of the digits of a given number."
   ]
  },
  {
   "cell_type": "code",
   "execution_count": 27,
   "id": "00a180dc-bd8e-4b37-aa69-092e9a8b1b4f",
   "metadata": {},
   "outputs": [
    {
     "name": "stdout",
     "output_type": "stream",
     "text": [
      "6\n"
     ]
    }
   ],
   "source": [
    "from functools import reduce\n",
    "num = 51\n",
    "digit_sum = reduce(lambda x,y: int(x) + int(y), str(num), 0)\n",
    "print(digit_sum)\n"
   ]
  },
  {
   "cell_type": "code",
   "execution_count": null,
   "id": "a74b8efb-8dbe-4443-976c-417840ad6e7d",
   "metadata": {},
   "outputs": [],
   "source": []
  },
  {
   "cell_type": "markdown",
   "id": "f77f9549-f21b-4858-9bc9-011b3eae6df0",
   "metadata": {},
   "source": [
    "Filter :-"
   ]
  },
  {
   "cell_type": "markdown",
   "id": "47a8f268-7ec9-4447-8751-b620b6f0f1ef",
   "metadata": {},
   "source": [
    "1. Explain the purpose of the `filter()` function in Python and provide an example of how it can be used to filter elements from an iterable.\n"
   ]
  },
  {
   "cell_type": "code",
   "execution_count": 34,
   "id": "8f5ed1bd-0403-4359-a25b-436e489e44c6",
   "metadata": {},
   "outputs": [
    {
     "name": "stdout",
     "output_type": "stream",
     "text": [
      "[2, 4, 6]\n"
     ]
    }
   ],
   "source": [
    "\"\"\" The filter() function filters a sequence of elements based on a given predicates (a function that returns a boolean value) and returns a new sequence containing only the elements that meets the predicate.\n",
    " The filter function has following syntax.\n",
    " filter(predicate, iterable) \"\"\"\n",
    "\n",
    "list1 = [1,2,3,4,5,6]\n",
    "\n",
    "even = filter(lambda x : x % 2 == 0, list1)\n",
    "\n",
    "print(list(even))\n"
   ]
  },
  {
   "cell_type": "markdown",
   "id": "d1207cee-c580-4918-a753-2071b771b736",
   "metadata": {},
   "source": [
    "2. Write a Python program that uses the `filter()` function to select even numbers from a list of integers.\n"
   ]
  },
  {
   "cell_type": "code",
   "execution_count": 35,
   "id": "6178213c-f3be-4f3f-8027-0bc8a26b9129",
   "metadata": {},
   "outputs": [
    {
     "name": "stdout",
     "output_type": "stream",
     "text": [
      "[2, 4, 6, 8]\n"
     ]
    }
   ],
   "source": [
    "list1 = [1,2,3,4,5,6,7,8]\n",
    "\n",
    "even = filter(lambda x : x % 2 == 0, list1)\n",
    "\n",
    "print(list(even))"
   ]
  },
  {
   "cell_type": "markdown",
   "id": "a08fb4fe-f5d9-4dd9-8639-037ffa5b510b",
   "metadata": {},
   "source": [
    "3. Create a Python program that uses the `filter()` function to select names that start with a specific letter from a list of strings.\n"
   ]
  },
  {
   "cell_type": "code",
   "execution_count": 37,
   "id": "ef8667e1-77ff-4070-b914-aa64d2bcbd7c",
   "metadata": {},
   "outputs": [
    {
     "name": "stdout",
     "output_type": "stream",
     "text": [
      "['sid', 'shyam', 'sam']\n"
     ]
    }
   ],
   "source": [
    "name_list = ['sid', 'shyam', 'ram', 'sam', 'laxman']\n",
    "\n",
    "def start_with(letter, name):\n",
    "    return name.startswith(letter)\n",
    "\n",
    "letter11 = filter(lambda name: start_with('s', name), name_list)\n",
    "\n",
    "print(list(letter11))"
   ]
  },
  {
   "cell_type": "markdown",
   "id": "23414d91-a8c7-4fe4-b185-5c84df13db3d",
   "metadata": {},
   "source": [
    "4. Write a Python program that uses the `filter()` function to select prime numbers from a list of integers.\n"
   ]
  },
  {
   "cell_type": "code",
   "execution_count": 39,
   "id": "ba09c144-3fec-4eef-8925-fcf66ad17020",
   "metadata": {},
   "outputs": [
    {
     "name": "stdout",
     "output_type": "stream",
     "text": [
      "[2, 3, 5, 7, 11, 13, 17, 23]\n"
     ]
    }
   ],
   "source": [
    "def is_prime(num):\n",
    "    if num < 2:\n",
    "        return False\n",
    "    for i in range(2, int(num**0.5) + 1):\n",
    "        if num % i == 0:\n",
    "            return False\n",
    "    return True\n",
    "\n",
    "num = [2, 3, 5, 7, 10, 11, 13, 17, 20, 23]\n",
    "\n",
    "prime_num = filter(is_prime, num)\n",
    "\n",
    "print(list(prime_num))\n"
   ]
  },
  {
   "cell_type": "markdown",
   "id": "9ae02d4e-5ae1-45ed-8ce7-c3b32080e0eb",
   "metadata": {},
   "source": [
    "5. How can you use the `filter()` function to remove None values from a list in Python?"
   ]
  },
  {
   "cell_type": "code",
   "execution_count": 40,
   "id": "d6aed64c-8336-4674-aa15-1613a0b42ddf",
   "metadata": {},
   "outputs": [
    {
     "name": "stdout",
     "output_type": "stream",
     "text": [
      "[1, 3, 5, 6, 8]\n"
     ]
    }
   ],
   "source": [
    "original_list = [1, None, 3, None, 5, 6, None, 8, None]\n",
    "\n",
    "filter_list = filter(lambda value: value is not None, original_list)\n",
    "\n",
    "print(list(filter_list))"
   ]
  },
  {
   "cell_type": "markdown",
   "id": "11d1ef3a-b4ad-4783-8960-aefaa55f1b9d",
   "metadata": {},
   "source": [
    "6. Create a Python program that uses `filter()` to select words longer than a certain length from a list of strings.\n"
   ]
  },
  {
   "cell_type": "code",
   "execution_count": 43,
   "id": "f5add85a-2615-4dad-80b3-bf77649b74e3",
   "metadata": {},
   "outputs": [
    {
     "name": "stdout",
     "output_type": "stream",
     "text": [
      "['banana', 'orange', 'pineapple']\n"
     ]
    }
   ],
   "source": [
    "word_list = [\"apple\", \"banana\", \"orange\", \"grape\", \"kiwi\", \"pineapple\"]\n",
    "\n",
    "length = 5\n",
    "\n",
    "filter_word = filter(lambda word: len(word) > length, word_list)\n",
    "\n",
    "print(list(filter_word))"
   ]
  },
  {
   "cell_type": "markdown",
   "id": "5cbf99cc-30f4-4a0e-9e49-c16cd70f4562",
   "metadata": {},
   "source": [
    "7. Write a Python program that uses the `filter()` function to select elements greater than a specified threshold from a list of values."
   ]
  },
  {
   "cell_type": "code",
   "execution_count": 2,
   "id": "a9f84628-359d-4bd3-8275-242ec349db79",
   "metadata": {},
   "outputs": [
    {
     "name": "stdin",
     "output_type": "stream",
     "text": [
      "Enter threshold 55\n"
     ]
    },
    {
     "name": "stdout",
     "output_type": "stream",
     "text": [
      "Original Values: [10, 20, 30, 40, 50, 60, 70, 80, 90]\n",
      "Values greater than 55: [60, 70, 80, 90]\n"
     ]
    }
   ],
   "source": [
    "values = [10, 20, 30, 40, 50, 60, 70, 80, 90]\n",
    "\n",
    "threshold = int(input(\"Enter threshold\"))\n",
    "\n",
    "filter_value = filter(lambda x: x > threshold, values)\n",
    "\n",
    "result = list(filter_value)\n",
    "\n",
    "print(f\"Original Values: {values}\")\n",
    "print(f\"Values greater than {threshold}: {result}\")\n",
    "                "
   ]
  },
  {
   "cell_type": "code",
   "execution_count": null,
   "id": "cecc0466-a598-4e23-9e53-bed9cc43d356",
   "metadata": {},
   "outputs": [],
   "source": []
  },
  {
   "cell_type": "markdown",
   "id": "46c4c12d-0b97-49ec-806b-cadd408259ae",
   "metadata": {},
   "source": [
    "Recursion:-"
   ]
  },
  {
   "cell_type": "markdown",
   "id": "ad61cdd6-e9e0-4c3a-9bce-adb641c1af06",
   "metadata": {},
   "source": [
    "1. Explain the concept of recursion in Python. How does it differ from iteration?\n"
   ]
  },
  {
   "cell_type": "markdown",
   "id": "58b1c37f-3705-49f6-b6aa-705244570f18",
   "metadata": {},
   "source": [
    "1. In python a function can call itself again and again and it is called recursion. It is a common mathematical and programming concept. It means function can call itself.\n",
    "2. In iteration the code block is repeatedly executed until the conditions are un-met."
   ]
  },
  {
   "cell_type": "markdown",
   "id": "ea6bc536-5679-443e-a347-904e62f8c3ea",
   "metadata": {},
   "source": [
    "2. Write a Python program to calculate the factorial of a number using recursion.\n"
   ]
  },
  {
   "cell_type": "code",
   "execution_count": 5,
   "id": "cc9aee0c-bc6b-45bc-95e4-06740090b751",
   "metadata": {},
   "outputs": [
    {
     "name": "stdout",
     "output_type": "stream",
     "text": [
      "number :  5\n",
      "Factorial :  120\n"
     ]
    }
   ],
   "source": [
    "def factorial(n):\n",
    "    if n == 0 or n == 1:\n",
    "        return 1\n",
    "    else:\n",
    "        return (n*factorial(n-1))\n",
    "    \n",
    "num = 5\n",
    "print(\"number : \",num)\n",
    "print(\"Factorial : \",factorial(num))    "
   ]
  },
  {
   "cell_type": "markdown",
   "id": "aff16d64-f389-492f-88ad-4272670457e9",
   "metadata": {},
   "source": [
    "3. Create a recursive Python function to find the nth Fibonacci number.\n"
   ]
  },
  {
   "cell_type": "code",
   "execution_count": 8,
   "id": "7502e72c-74f9-4bb4-ba5c-37fa66a80234",
   "metadata": {},
   "outputs": [
    {
     "name": "stdout",
     "output_type": "stream",
     "text": [
      "55\n"
     ]
    }
   ],
   "source": [
    "def fibonacci(n):\n",
    "    if n <= 1 :\n",
    "        return n\n",
    "    else:\n",
    "        return fibonacci(n-1) + fibonacci(n-2)\n",
    "    \n",
    "n = 10\n",
    "fib_number = fibonacci(n)\n",
    "print(fib_number)"
   ]
  },
  {
   "cell_type": "markdown",
   "id": "43b9617b-7e03-425e-b5ec-97fbe26c3256",
   "metadata": {},
   "source": [
    "4. Write a recursive Python function to calculate the sum of all elements in a list.\n"
   ]
  },
  {
   "cell_type": "code",
   "execution_count": 11,
   "id": "6715d8e8-a1ab-4f0b-955d-f0ddee209a11",
   "metadata": {},
   "outputs": [
    {
     "data": {
      "text/plain": [
       "16"
      ]
     },
     "execution_count": 11,
     "metadata": {},
     "output_type": "execute_result"
    }
   ],
   "source": [
    "def sum_list(n):\n",
    "    if len(n) == 0:\n",
    "        return 0\n",
    "    else:\n",
    "        return n[0] + sum_list(n[1:])\n",
    "\n",
    "n = [1,2,3,4,5,1]\n",
    "sum_list(n)"
   ]
  },
  {
   "cell_type": "markdown",
   "id": "411a9cdd-6029-4f8f-91e6-fe9dfec60cb4",
   "metadata": {},
   "source": [
    "5. How can you prevent a recursive function from running indefinitely, causing a stack overflow error?"
   ]
  },
  {
   "cell_type": "markdown",
   "id": "991480f2-090e-4e6e-b271-5c81f060d44b",
   "metadata": {},
   "source": [
    "To prevent recursive function from running indefinitely, causing a stack overflow error we can do the following:\n",
    "\n",
    "1. Base case - Ensure that recursive function has a base case that defines when the recursion should stop. The base case should be a simple scenario where the base case returns a result and no further recursion is needed.\n",
    "\n",
    "2. Code logic - Ensure that each recursive call moves towards the base case. In other words, ensure that each recursive call leads to the base case condition.\n"
   ]
  },
  {
   "cell_type": "markdown",
   "id": "f52c287c-efa2-46bf-b9c0-867a5f08bd38",
   "metadata": {},
   "source": [
    "6. Create a recursive Python function to find the greatest common divisor (GCD) of two numbers using the Euclidean algorithm.\n"
   ]
  },
  {
   "cell_type": "code",
   "execution_count": 4,
   "id": "c85a6a11-5b59-4681-a01f-7b01a127e0d4",
   "metadata": {},
   "outputs": [
    {
     "data": {
      "text/plain": [
       "12"
      ]
     },
     "execution_count": 4,
     "metadata": {},
     "output_type": "execute_result"
    }
   ],
   "source": [
    "def gcd(a,b):\n",
    "    if b == 0:\n",
    "        return a\n",
    "    else:\n",
    "        return gcd(b, a%b)\n",
    "    \n",
    "a = 48\n",
    "b = 60\n",
    "\n",
    "gcd(a,b)\n",
    "    \n",
    "    "
   ]
  },
  {
   "cell_type": "markdown",
   "id": "f31b7577-621d-4566-bd2e-eaeb1d0c0c88",
   "metadata": {},
   "source": [
    "7. Write a recursive Python function to reverse a string.\n"
   ]
  },
  {
   "cell_type": "code",
   "execution_count": 5,
   "id": "c19d1159-0b62-47da-affa-9cebb46d8c9b",
   "metadata": {},
   "outputs": [
    {
     "data": {
      "text/plain": [
       "'olleh'"
      ]
     },
     "execution_count": 5,
     "metadata": {},
     "output_type": "execute_result"
    }
   ],
   "source": [
    "def rev_str(a):\n",
    "    if len(a) < 1:\n",
    "        return a\n",
    "    else:\n",
    "        return rev_str(a[1:]) + a[0]\n",
    "\n",
    "a = \"hello\"\n",
    "rev_str(a)\n",
    "    "
   ]
  },
  {
   "cell_type": "markdown",
   "id": "e218f265-6e1e-44e7-a47b-cb62237daef4",
   "metadata": {},
   "source": [
    "8. Create a recursive Python function to calculate the power of a number (x^n)."
   ]
  },
  {
   "cell_type": "code",
   "execution_count": 8,
   "id": "1db83929-0349-448b-902c-9b0c6309988a",
   "metadata": {},
   "outputs": [
    {
     "data": {
      "text/plain": [
       "32"
      ]
     },
     "execution_count": 8,
     "metadata": {},
     "output_type": "execute_result"
    }
   ],
   "source": [
    "def power(x,n):\n",
    "    if n == 0:\n",
    "        return 1\n",
    "    else:\n",
    "        return x * power(x,n-1)\n",
    "    \n",
    "x = 2\n",
    "n = 5\n",
    "\n",
    "power(x,n)"
   ]
  },
  {
   "cell_type": "markdown",
   "id": "432858b2-f30f-4117-b5f7-93087c969b11",
   "metadata": {},
   "source": [
    "9. Write a recursive Python function to find all permutations of a given string.\n"
   ]
  },
  {
   "cell_type": "code",
   "execution_count": 9,
   "id": "22cb082a-3c8a-4a1d-ad5b-f3efadfbcf54",
   "metadata": {},
   "outputs": [
    {
     "name": "stdout",
     "output_type": "stream",
     "text": [
      "Permutations of abc : ['abc', 'bac', 'bca', 'acb', 'cab', 'cba']\n"
     ]
    }
   ],
   "source": [
    "def permutations(string):\n",
    "    if len(string) == 1:\n",
    "        return [string]\n",
    "    \n",
    "    perms = permutations(string[1:])\n",
    "    \n",
    "    result = []\n",
    "    \n",
    "    for perm in perms:\n",
    "        for i in range(len(perm) + 1):\n",
    "            result.append(perm[:i] + string[0] + perm[i:])\n",
    "    return result\n",
    "\n",
    "my_string = \"abc\"\n",
    "permutation_list = permutations(my_string)\n",
    "print(\"Permutations of\", my_string, \":\", permutation_list)\n",
    "        \n",
    "    "
   ]
  },
  {
   "cell_type": "markdown",
   "id": "e31bf460-3ce3-4a2e-b88e-6a6e7a8c28d6",
   "metadata": {},
   "source": [
    "10. Write a recursive Python function to check if a string is a palindrome."
   ]
  },
  {
   "cell_type": "code",
   "execution_count": 11,
   "id": "306b7fef-689a-49da-ba4b-c8a4a9363b73",
   "metadata": {},
   "outputs": [
    {
     "name": "stdout",
     "output_type": "stream",
     "text": [
      "radar is a palindrome: True\n",
      "hello is a palindrome: False\n"
     ]
    }
   ],
   "source": [
    "def is_palindrome(string):\n",
    "    if len(string) < 1:\n",
    "        return True\n",
    "    else:\n",
    "        return string[0] == string[-1] and is_palindrome(string[1:-1])\n",
    "string1 = \"radar\"\n",
    "string2 = \"hello\"\n",
    "print(f\"{string1} is a palindrome:\", is_palindrome(string1))\n",
    "print(f\"{string2} is a palindrome:\", is_palindrome(string2))    "
   ]
  },
  {
   "cell_type": "markdown",
   "id": "6f009d03-17b8-4586-9f5b-323254a6af40",
   "metadata": {},
   "source": [
    "11. Create a recursive Python function to generate all possible combinations of a list of elements.\n"
   ]
  },
  {
   "cell_type": "code",
   "execution_count": 12,
   "id": "c34ec660-d593-4feb-a6ff-2153fd5237e2",
   "metadata": {},
   "outputs": [
    {
     "name": "stdout",
     "output_type": "stream",
     "text": [
      "All possible combinations of ['a', 'b', 'c'] : [[], ['a'], ['b'], ['a', 'b'], ['c'], ['a', 'c'], ['b', 'c'], ['a', 'b', 'c']]\n"
     ]
    }
   ],
   "source": [
    "def combinations(elements):\n",
    "    if len(elements) == 0:\n",
    "        return [[]]  \n",
    "\n",
    "    head = elements[0]\n",
    "    tail_combinations = combinations(elements[1:])\n",
    "\n",
    "    result = []\n",
    "    for comb in tail_combinations:\n",
    "        result.append(comb) \n",
    "        result.append([head] + comb)  \n",
    "    return result\n",
    "\n",
    "elements = ['a', 'b', 'c']\n",
    "\n",
    "combinations_list = combinations(elements)\n",
    "print(\"All possible combinations of\", elements, \":\", combinations_list)\n"
   ]
  },
  {
   "cell_type": "raw",
   "id": "3b00d644-0212-4c26-a593-464411c986b9",
   "metadata": {},
   "source": []
  },
  {
   "cell_type": "markdown",
   "id": "f10e348b-2df1-4f80-935f-fc701ad2036f",
   "metadata": {},
   "source": [
    "Basics of Functions:\n"
   ]
  },
  {
   "cell_type": "markdown",
   "id": "13891219-b0b6-4ef0-819c-453c4fbed7b9",
   "metadata": {},
   "source": [
    "1. What is a function in Python, and why is it used?\n"
   ]
  },
  {
   "cell_type": "markdown",
   "id": "e06c9534-c8ae-4d8f-acfd-7b4711b1c276",
   "metadata": {},
   "source": [
    "Python functions are a block of statements which return a specific task. It is used because of multiple reasons:\n",
    "1. Modularity\n",
    "2. Code Reuseability\n",
    "3. Abstraction\n",
    "4. Encapsulation\n",
    "5. Perameterization\n",
    "6. Return values\n"
   ]
  },
  {
   "cell_type": "markdown",
   "id": "3091ad32-88cf-4ad7-84fb-f7e6acfc39ff",
   "metadata": {},
   "source": [
    "2. How do you define a function in Python? Provide an example.\n"
   ]
  },
  {
   "cell_type": "code",
   "execution_count": 17,
   "id": "b621bde3-d3ff-448d-ad22-17dabd58b8bd",
   "metadata": {},
   "outputs": [
    {
     "name": "stdout",
     "output_type": "stream",
     "text": [
      "25\n"
     ]
    }
   ],
   "source": [
    "#In python, you can define a function by \"def\" keyword followed by function name, paranthesis \"()\" and a colon \":\" to start a function.\n",
    "\n",
    "def square(x):\n",
    "    return x*x\n",
    "\n",
    "result = square(5)\n",
    "print(result)"
   ]
  },
  {
   "cell_type": "markdown",
   "id": "efd6de11-899a-4df5-bfcb-0a1a64887ed4",
   "metadata": {},
   "source": [
    "3. Explain the difference between a function definition and a function call."
   ]
  },
  {
   "cell_type": "markdown",
   "id": "bb74f6df-edf5-40d8-895e-42b069678faf",
   "metadata": {},
   "source": [
    "\n",
    "In Python, there are two distinct concepts related to functions: function definition and function call:\n",
    "\n",
    "Function Definition:\n",
    "\n",
    "Function definition refers to the process of creating or defining a function. It involves specifying the name of the function, the parameters it takes (if any), and the code block that constitutes the body of the function.\n",
    "When you define a function, you are essentially creating a blueprint or template for performing a specific task. This blueprint specifies what the function does when it's called and how it operates on its input parameters.\n",
    "Function definition is done using the def keyword followed by the function name, parameters (if any), and a colon : to start the function block. The function body is then indented and contains the code to be executed when the function is called.\n",
    "\n",
    "Function Call:\n",
    "\n",
    "Function call, also known as function invocation, refers to the process of actually executing or running a function that has been defined. When you call a function, you are instructing Python to execute the code defined within the function's body with the specified arguments (if any).\n",
    "During a function call, you provide the necessary arguments (if the function expects any) within parentheses (). These arguments are passed to the function as input parameters, and the function operates on them as per its definition.\n",
    "After the function has been executed, it may optionally return a value. This return value can be assigned to a variable, used in expressions, or passed as an argument to another function call."
   ]
  },
  {
   "cell_type": "markdown",
   "id": "47301f43-4f91-45ef-ae01-048ea3c6a251",
   "metadata": {},
   "source": [
    "4. Write a Python program that defines a function to calculate the sum of two numbers and then calls the function.\n"
   ]
  },
  {
   "cell_type": "code",
   "execution_count": 18,
   "id": "197232a8-71d0-4072-b4e2-a3555f336515",
   "metadata": {},
   "outputs": [
    {
     "name": "stdout",
     "output_type": "stream",
     "text": [
      "7\n"
     ]
    }
   ],
   "source": [
    "def sum1(a,b):\n",
    "    return a + b\n",
    "\n",
    "result = sum1(5,2)\n",
    "print(result)"
   ]
  },
  {
   "cell_type": "markdown",
   "id": "db78014c-9377-4ba3-964f-0b041e33e8ac",
   "metadata": {},
   "source": [
    "5. What is a function signature, and what information does it typically include?"
   ]
  },
  {
   "cell_type": "markdown",
   "id": "3c730438-290f-421d-a25d-25974df414a8",
   "metadata": {},
   "source": [
    "\n",
    "A function signature, also known as a function prototype, refers to the declaration of a function that specifies its interface or interface-related information without providing the function's implementation details. It essentially outlines the function's name, return type, and parameters, giving a clear indication of how the function can be called and what it returns.\n",
    "\n",
    "A typical function signature includes the following information:\n",
    "\n",
    "Function Name:\n",
    "\n",
    "The name of the function, which uniquely identifies it within the program.\n",
    "It is used to call the function from other parts of the program.\n",
    "Return Type:\n",
    "\n",
    "The data type of the value that the function returns after execution.\n",
    "It specifies the type of result that the caller can expect when invoking the function.\n",
    "Parameter Types:\n",
    "\n",
    "The data types of the parameters (if any) that the function accepts as input.\n",
    "It defines the type of data that the function expects to receive when it is called.\n",
    "Parameter Names (Optional):\n",
    "\n",
    "The names of the parameters (if provided) that clarify the purpose of each input value.\n",
    "They serve as identifiers within the function body for accessing the values passed as arguments."
   ]
  },
  {
   "cell_type": "markdown",
   "id": "3c36e0e1-87e3-467b-9ade-a4f7f2582fb5",
   "metadata": {},
   "source": [
    "6. Create a Python function that takes two arguments and returns their product.\n"
   ]
  },
  {
   "cell_type": "code",
   "execution_count": 19,
   "id": "e42a9a8b-ca0e-4817-927c-bd124b9f757d",
   "metadata": {},
   "outputs": [
    {
     "name": "stdout",
     "output_type": "stream",
     "text": [
      "10\n"
     ]
    }
   ],
   "source": [
    "def square(x,y):\n",
    "    return x*y\n",
    "\n",
    "result = square(5,2)\n",
    "print(result)"
   ]
  },
  {
   "cell_type": "code",
   "execution_count": null,
   "id": "2bf3e21c-bf5e-467c-ac8b-3c0b9758b07b",
   "metadata": {},
   "outputs": [],
   "source": []
  },
  {
   "cell_type": "code",
   "execution_count": null,
   "id": "6716f4a2-4c1c-4697-9e72-8f46cefd184a",
   "metadata": {},
   "outputs": [],
   "source": []
  },
  {
   "cell_type": "markdown",
   "id": "57c68b0b-e540-43b0-85ca-1f664a2053be",
   "metadata": {},
   "source": [
    "Function Parameters and Arguments:"
   ]
  },
  {
   "cell_type": "markdown",
   "id": "2ee50115-42e3-496a-8cd1-7292d8187864",
   "metadata": {},
   "source": [
    "1. Explain the concepts of formal parameters and actual arguments in Python functions."
   ]
  },
  {
   "cell_type": "markdown",
   "id": "5966a473-e2d3-47a8-aa56-0909ffedf668",
   "metadata": {},
   "source": [
    "\n",
    "In Python functions, the concepts of formal parameters and actual arguments are related to how data is passed into and received by functions. Let's explain each concept:\n",
    "\n",
    "Formal Parameters:\n",
    "\n",
    "Formal parameters are the placeholders or variables defined in the function definition to represent the data that the function expects to receive when it is called.\n",
    "These parameters are specified within the parentheses () in the function definition and serve as input to the function.\n",
    "Formal parameters act as local variables within the function's scope, and their values are determined by the arguments passed during function invocation.\n",
    "Formal parameters are also known as formal arguments or parameters.\n",
    "\n",
    "Actual Arguments:\n",
    "\n",
    "Actual arguments, also called arguments or parameters, are the values or expressions provided to a function when it is called, corresponding to the formal parameters defined in the function's signature.\n",
    "These arguments are passed within the parentheses () in the function call and are used to supply data to the function for processing.\n",
    "Actual arguments can take various forms, including literals, variables, expressions, or even the results of other function calls.\n",
    "The values of actual arguments are assigned to the formal parameters of the function during the function call, and the function operates on these values within its scope."
   ]
  },
  {
   "cell_type": "markdown",
   "id": "46e1fccb-1c76-44ae-8366-e482e9c327d3",
   "metadata": {},
   "source": [
    "2. Write a Python program that defines a function with default argument values.\n"
   ]
  },
  {
   "cell_type": "code",
   "execution_count": 1,
   "id": "6172ee7b-8e80-4d76-b287-6f8f4906a549",
   "metadata": {},
   "outputs": [
    {
     "name": "stdout",
     "output_type": "stream",
     "text": [
      "Hi, Alice!\n",
      "Hello, Bob!\n",
      "Hello, Guest!\n"
     ]
    }
   ],
   "source": [
    "def greet(name=\"Guest\", message=\"Hello\"):\n",
    "    print(message + \", \" + name + \"!\")\n",
    "\n",
    "\n",
    "greet(\"Alice\", \"Hi\")   \n",
    "greet(\"Bob\")            \n",
    "greet()                 \n"
   ]
  },
  {
   "cell_type": "markdown",
   "id": "daf4aa07-f125-4c95-a114-4daf88bc03d9",
   "metadata": {},
   "source": [
    "3. How do you use keyword arguments in Python function calls? Provide an example."
   ]
  },
  {
   "cell_type": "code",
   "execution_count": 2,
   "id": "7eadc93e-02b0-4d53-8a8e-f02c37c97c68",
   "metadata": {},
   "outputs": [
    {
     "name": "stdout",
     "output_type": "stream",
     "text": [
      "Hi, Alice!\n",
      "Hi, Bob!\n",
      "Hello, Charlie!\n"
     ]
    }
   ],
   "source": [
    "#In Python, keyword arguments allow you to specify arguments by their perameter names when calling a function.\n",
    "\n",
    "def greet(name, message=\"Hello\"):\n",
    "    print(message + \", \" + name + \"!\")\n",
    "\n",
    "greet(name=\"Alice\", message=\"Hi\")   \n",
    "greet(message=\"Hi\", name=\"Bob\")      \n",
    "greet(name=\"Charlie\")            \n"
   ]
  },
  {
   "cell_type": "markdown",
   "id": "5eba9e58-080c-4794-b2ea-cd76f166df1f",
   "metadata": {},
   "source": [
    "4. Create a Python function that accepts a variable number of arguments and calculates their sum.\n"
   ]
  },
  {
   "cell_type": "code",
   "execution_count": 4,
   "id": "2c8cfafe-d891-472a-917b-cc2b5e791a0a",
   "metadata": {},
   "outputs": [
    {
     "name": "stdout",
     "output_type": "stream",
     "text": [
      "Sum: 15\n",
      "Sum: 60\n",
      "Sum: 16.0\n"
     ]
    }
   ],
   "source": [
    "def sum1(*args):\n",
    "    total = 0\n",
    "    for num in args:\n",
    "        total += num\n",
    "    return total\n",
    "result1 = sum1(1, 2, 3, 4, 5)\n",
    "print(\"Sum:\", result1)  \n",
    "\n",
    "result2 = sum1(10, 20, 30)\n",
    "print(\"Sum:\", result2) \n",
    "result3 = sum1(2.5, 3.5, 4.5, 5.5)\n",
    "print(\"Sum:\", result3)  \n",
    "    "
   ]
  },
  {
   "cell_type": "markdown",
   "id": "6bc878ec-3420-45b0-83bf-e063e7e783c4",
   "metadata": {},
   "source": [
    "5. What is the purpose of the `*args` and `**kwargs` syntax in function parameter lists?"
   ]
  },
  {
   "cell_type": "markdown",
   "id": "5e345592-4680-45c3-977d-06e991457d0d",
   "metadata": {},
   "source": [
    "In Python, the *args and **kwargs syntax in function parameter lists allow you to define functions that can accept a variable number of arguments, both positional and keyword arguments, respectively. These features provide flexibility and allow you to create more versatile and generic functions.\n",
    "\n",
    "Here's the purpose of each syntax:\n",
    "\n",
    "*args (Arbitrary Positional Arguments):\n",
    "\n",
    "The *args syntax in a function parameter list allows you to pass a variable number of positional arguments to the function.\n",
    "It collects these arguments into a tuple inside the function, which you can then iterate over or process as needed.\n",
    "This feature is useful when you want to create functions that can accept an arbitrary number of positional arguments without explicitly specifying them in the function signature.\n",
    "You can name *args anything you like, but the convention is to use *args to indicate that it represents arbitrary positional arguments.\n",
    "\n",
    "**kwargs (Arbitrary Keyword Arguments):\n",
    "\n",
    "The **kwargs syntax in a function parameter list allows you to pass a variable number of keyword arguments (i.e., key-value pairs) to the function.\n",
    "It collects these keyword arguments into a dictionary inside the function, where the keys are the parameter names and the values are the corresponding argument values.\n",
    "This feature is useful when you want to create functions that can accept an arbitrary number of keyword arguments without explicitly specifying them in the function signature.\n",
    "Like *args, you can name **kwargs anything you like, but the convention is to use **kwargs to indicate that it represents arbitrary keyword arguments."
   ]
  },
  {
   "cell_type": "code",
   "execution_count": null,
   "id": "5ca55b96-cebb-4fc1-9fd8-f15f38c0b150",
   "metadata": {},
   "outputs": [],
   "source": []
  },
  {
   "cell_type": "code",
   "execution_count": null,
   "id": "44de8419-8fdf-496a-b25a-4b0e2a31bbbf",
   "metadata": {},
   "outputs": [],
   "source": []
  },
  {
   "cell_type": "code",
   "execution_count": null,
   "id": "7ea3ac51-ad39-442a-8064-6108f8bdf41f",
   "metadata": {},
   "outputs": [],
   "source": []
  },
  {
   "cell_type": "markdown",
   "id": "eaecebcd-5a40-43a3-92d9-f32bf6260cb3",
   "metadata": {},
   "source": [
    "Return Values and Scoping:"
   ]
  },
  {
   "cell_type": "markdown",
   "id": "d988d30d-bc40-417a-9dbd-08bce7bac053",
   "metadata": {},
   "source": [
    "1. Describe the role of the `return` statement in Python functions and provide examples.\n"
   ]
  },
  {
   "cell_type": "code",
   "execution_count": 5,
   "id": "9f5650d2-0c7f-4fc1-9c99-a7e1101ae486",
   "metadata": {},
   "outputs": [
    {
     "name": "stdout",
     "output_type": "stream",
     "text": [
      "Result: 8\n"
     ]
    }
   ],
   "source": [
    "\"\"\"In Python, the return statement is used to exit a function and optionally return a value back to the caller. When a return statement is encountered in a function, it immediately terminates the execution of the function and passes control back to the point where the function was called. It can also return a value, which can be used by the caller.\n",
    "\n",
    "Here's the role of the return statement in Python functions:\n",
    "\n",
    "Exiting the Function:\n",
    "When a return statement is encountered in a function, the function execution stops immediately, and control is returned to the caller.\n",
    "Any code statements after the return statement within the function are not executed.\n",
    "\n",
    "Returning a Value:\n",
    "The return statement can also be used to return a value or multiple values (as a tuple) from the function back to the caller.\n",
    "The returned value can be assigned to a variable or used directly in expressions by the caller.\"\"\"\n",
    "\n",
    "def add(a, b):\n",
    "    return a + b\n",
    "\n",
    "result = add(3, 5)\n",
    "print(\"Result:\", result)  \n",
    "\n"
   ]
  },
  {
   "cell_type": "markdown",
   "id": "f139dbca-a3b8-4175-99de-5346f576980c",
   "metadata": {},
   "source": [
    "2. Explain the concept of variable scope in Python, including local and global variables.\n"
   ]
  },
  {
   "cell_type": "markdown",
   "id": "59a5737a-b9af-4a54-824b-85373ec286fb",
   "metadata": {},
   "source": [
    "Variable scope in Python refers to the region of a program where a particular variable is accessible and can be referenced. It determines where in the code a variable can be used and accessed. Python has two main types of variable scope: local scope and global scope.\n",
    "\n",
    "1. Local Scope:\n",
    "\n",
    "Local scope refers to the region within a function where variables are defined.\n",
    "Variables defined inside a function are said to have local scope and are accessible only within that function.\n",
    "These variables are created when the function is called and destroyed when the function exits.\n",
    "Local variables cannot be accessed from outside the function in which they are defined.\n",
    "\n",
    "2. Global Scope:\n",
    "\n",
    "Global scope refers to the region of the program outside any function, where variables are defined at the top level of the script or module.\n",
    "Variables defined outside all functions are said to have global scope and are accessible throughout the entire program, including within functions.\n",
    "Global variables are created when the program starts and are destroyed when the program terminates.\n",
    "They can be accessed and modified from anywhere in the program."
   ]
  },
  {
   "cell_type": "markdown",
   "id": "2ad290b7-3f7b-4053-b6a5-8a69ebf7d281",
   "metadata": {},
   "source": [
    "3. Write a Python program that demonstrates the use of global variables within functions.\n"
   ]
  },
  {
   "cell_type": "code",
   "execution_count": 7,
   "id": "37edd63b-e1e7-44da-99fc-9a0a0fc595d7",
   "metadata": {},
   "outputs": [
    {
     "name": "stdout",
     "output_type": "stream",
     "text": [
      "10\n",
      "10\n"
     ]
    }
   ],
   "source": [
    "x = 10\n",
    "\n",
    "def my_fun():\n",
    "    print(x)\n",
    "my_fun()\n",
    "print(x)"
   ]
  },
  {
   "cell_type": "markdown",
   "id": "5ff1e8d7-0294-4536-94f5-1a7850e00586",
   "metadata": {},
   "source": [
    "4. Create a Python function that calculates the factorial of a number and returns it."
   ]
  },
  {
   "cell_type": "code",
   "execution_count": 10,
   "id": "72325d4f-662e-454e-80ae-cfd21c710c82",
   "metadata": {},
   "outputs": [
    {
     "name": "stdout",
     "output_type": "stream",
     "text": [
      "Factorial of 5 is: 120\n"
     ]
    }
   ],
   "source": [
    "def factorial(n):\n",
    "    if n == 0 or n == 1:\n",
    "        return 1\n",
    "    else:\n",
    "        return n * factorial(n-1)\n",
    "\n",
    "number = 5\n",
    "result = factorial(number)\n",
    "print(\"Factorial of\", number, \"is:\", result) \n"
   ]
  },
  {
   "cell_type": "markdown",
   "id": "a9682251-3ef2-4ebc-8900-afbc5adbdd41",
   "metadata": {},
   "source": [
    "5. How can you access variables defined outside a function from within the function?"
   ]
  },
  {
   "cell_type": "markdown",
   "id": "f59c1991-03b2-4c16-8531-2c694396b2fb",
   "metadata": {},
   "source": [
    "\n",
    "In Python, you can access variables defined outside a function from within the function by using the global keyword or by simply referencing the variable directly."
   ]
  },
  {
   "cell_type": "code",
   "execution_count": null,
   "id": "23c9ef16-bdc4-46d7-9a0a-e7731766353e",
   "metadata": {},
   "outputs": [],
   "source": []
  },
  {
   "cell_type": "code",
   "execution_count": null,
   "id": "fd8771a2-2b22-4f27-92da-e10d6727b78c",
   "metadata": {},
   "outputs": [],
   "source": []
  },
  {
   "cell_type": "markdown",
   "id": "1264c513-79f7-4749-8df3-0d2bc92698dc",
   "metadata": {},
   "source": [
    "Lambda Functions and Higher-Order Functions:"
   ]
  },
  {
   "cell_type": "markdown",
   "id": "161d6cbf-ed41-400f-9f5e-d3305891815f",
   "metadata": {},
   "source": [
    "1. What are lambda functions in Python, and when are they typically used?\n"
   ]
  },
  {
   "cell_type": "markdown",
   "id": "4888178a-6268-4b5a-8edb-6bf687755fb3",
   "metadata": {},
   "source": [
    "\n",
    "In Python, a lambda function is a small, anonymous function defined using the lambda keyword. Lambda functions are also known as anonymous functions because they do not have a name like regular functions defined using the def keyword.\n",
    "\n",
    "Lambda functions are typically used in situations where you need a simple, short-lived function that will be used only once, often as an argument to higher-order functions like map(), filter(), and sorted(), or as a callback function in event-driven programming."
   ]
  },
  {
   "cell_type": "markdown",
   "id": "32e934aa-3024-4c29-9fdb-1b5465002f74",
   "metadata": {},
   "source": [
    "2. Write a Python program that uses lambda functions to sort a list of tuples based on the second element.\n"
   ]
  },
  {
   "cell_type": "code",
   "execution_count": 11,
   "id": "7feb8c60-7c1c-4729-916f-dee6c236b436",
   "metadata": {},
   "outputs": [
    {
     "name": "stdout",
     "output_type": "stream",
     "text": [
      "Sorted data based on the second element:\n",
      "('Charlie', 20)\n",
      "('Alice', 25)\n",
      "('Bob', 30)\n",
      "('David', 35)\n"
     ]
    }
   ],
   "source": [
    "data = [(\"Alice\", 25), (\"Bob\", 30), (\"Charlie\", 20), (\"David\", 35)]\n",
    "sorted_data = sorted(data, key=lambda x: x[1])\n",
    "\n",
    "print(\"Sorted data based on the second element:\")\n",
    "for item in sorted_data:\n",
    "    print(item)\n"
   ]
  },
  {
   "cell_type": "markdown",
   "id": "9261f223-c576-4e80-ace9-2eb60dfe28f8",
   "metadata": {},
   "source": [
    "3. Explain the concept of higher-order functions in Python, and provide an example.\n"
   ]
  },
  {
   "cell_type": "code",
   "execution_count": 12,
   "id": "545e8237-f396-4a4d-98b8-3d01feb0a844",
   "metadata": {},
   "outputs": [
    {
     "name": "stdout",
     "output_type": "stream",
     "text": [
      "Result of addition: 8\n",
      "Result of multiplication: 24\n"
     ]
    }
   ],
   "source": [
    "#In Python, a higher-order function is a function that takes another function as an argument or returns a function as a result. This concept is derived from functional programming and allows for more flexible and modular code. Higher-order functions enable you to abstract away common patterns and behaviors, making your code more concise, readable, and reusable.\n",
    "\n",
    "# Higher-order function that takes another function as an argument\n",
    "def apply_operation(operation, x, y):\n",
    "    return operation(x, y)\n",
    "\n",
    "def add(x, y):\n",
    "    return x + y\n",
    "\n",
    "def multiply(x, y):\n",
    "    return x * y\n",
    "\n",
    "result1 = apply_operation(add, 5, 3)       \n",
    "result2 = apply_operation(multiply, 4, 6)   \n",
    "\n",
    "print(\"Result of addition:\", result1)       \n",
    "print(\"Result of multiplication:\", result2) \n"
   ]
  },
  {
   "cell_type": "markdown",
   "id": "116b7cd1-2524-4cfb-86c5-a60ec8885ab7",
   "metadata": {},
   "source": [
    "4. Create a Python function that takes a list of numbers and a function as arguments, applying the function to each element in the list."
   ]
  },
  {
   "cell_type": "code",
   "execution_count": 13,
   "id": "cd7e9e07-d26f-4d46-9cef-17e16d6cc022",
   "metadata": {},
   "outputs": [
    {
     "name": "stdout",
     "output_type": "stream",
     "text": [
      "Result: [1, 4, 9, 16, 25]\n"
     ]
    }
   ],
   "source": [
    "def apply_function_to_list(lst, func):\n",
    "    result = [func(x) for x in lst]\n",
    "    return result\n",
    "\n",
    "def square(x):\n",
    "    return x ** 2\n",
    "\n",
    "numbers = [1, 2, 3, 4, 5]\n",
    "\n",
    "result = apply_function_to_list(numbers, square)\n",
    "print(\"Result:\", result)  \n"
   ]
  },
  {
   "cell_type": "code",
   "execution_count": null,
   "id": "9eab0085-0e37-4ae9-8be4-d47d50b9999c",
   "metadata": {},
   "outputs": [],
   "source": []
  },
  {
   "cell_type": "code",
   "execution_count": null,
   "id": "cbabb7ba-8b91-4270-b266-0456a5d2dd63",
   "metadata": {},
   "outputs": [],
   "source": []
  },
  {
   "cell_type": "markdown",
   "id": "dad8a89a-b9de-4264-aa59-b63c8046d3de",
   "metadata": {},
   "source": [
    "Built-in Functions:\n"
   ]
  },
  {
   "cell_type": "markdown",
   "id": "d07accf3-a7aa-456b-a829-f37074981d08",
   "metadata": {},
   "source": [
    "1. Describe the role of built-in functions like `len()`, `max()`, and `min()` in Python."
   ]
  },
  {
   "cell_type": "markdown",
   "id": "41174a8c-c4d0-4f3b-9d79-8aaffe3038e0",
   "metadata": {},
   "source": [
    "1. len() Function:\n",
    "\n",
    "The len() function is used to determine the length or size of an object.\n",
    "It returns the number of items in an object, such as the number of elements in a list, the number of characters in a string, or the number of key-value pairs in a dictionary.\n",
    "It can be applied to various data structures, including lists, tuples, strings, dictionaries, and sets.\n",
    "\n",
    "2. max() Function:\n",
    "\n",
    "The max() function is used to find the maximum value among the elements of an iterable object.\n",
    "It takes one or more arguments (iterable objects) and returns the largest element.\n",
    "For strings, it returns the character with the highest ASCII value. For non-numeric iterables, it returns the maximum element based on the default or specified comparison criteria.\n",
    "\n",
    "3. min() Function:\n",
    "\n",
    "The min() function is used to find the minimum value among the elements of an iterable object.\n",
    "It takes one or more arguments (iterable objects) and returns the smallest element.\n",
    "For strings, it returns the character with the lowest ASCII value. For non-numeric iterables, it returns the minimum element based on the default or specified comparison criteria."
   ]
  },
  {
   "cell_type": "markdown",
   "id": "019a7871-6fe6-4584-9b4b-37ad001d5a39",
   "metadata": {},
   "source": [
    "2. Write a Python program that uses the `map()` function to apply a function to each element of a list.\n"
   ]
  },
  {
   "cell_type": "code",
   "execution_count": 15,
   "id": "3a8d79a8-1b80-4505-9999-f9589f900f8c",
   "metadata": {},
   "outputs": [
    {
     "name": "stdout",
     "output_type": "stream",
     "text": [
      "Original numbers: [1, 2, 3, 4, 5]\n",
      "Doubled numbers: [2, 4, 6, 8, 10]\n"
     ]
    }
   ],
   "source": [
    "def double(x):\n",
    "    return 2* x\n",
    "numbers = [1, 2, 3, 4, 5]\n",
    "\n",
    "doubled_numbers = map(double, numbers)\n",
    "\n",
    "doubled_numbers_list = list(doubled_numbers)\n",
    "print(\"Original numbers:\", numbers)\n",
    "print(\"Doubled numbers:\", doubled_numbers_list)"
   ]
  },
  {
   "cell_type": "markdown",
   "id": "6af82845-33b0-4de2-aae5-5f0e03f11b6d",
   "metadata": {},
   "source": [
    "3. How does the `filter()` function work in Python, and when would you use it?"
   ]
  },
  {
   "cell_type": "markdown",
   "id": "dbc1e466-51e1-4c03-8306-c668af0775de",
   "metadata": {},
   "source": [
    "The filter() function in Python is used to filter elements from an iterable (such as a list, tuple, or set) based on a specified condition. It takes two arguments: a function and an iterable. The function passed to filter() should return True or False for each element in the iterable, indicating whether the element should be included in the filtered result.\n",
    "\n",
    "You would use the filter() function when you need to selectively extract elements from a collection based on a certain criterion or condition. Some common use cases include:\n",
    "\n",
    "1. Filtering a list of numbers to include only even or odd numbers.\n",
    "2. Removing None values or other undesired elements from a list.\n",
    "3. Selecting elements from a list that satisfy a specific condition or match a certain pattern."
   ]
  },
  {
   "cell_type": "markdown",
   "id": "4790361d-7ca8-4caf-a079-13286fccc52f",
   "metadata": {},
   "source": [
    "4. Create a Python program that uses the `reduce()` function to find the product of all elements in a list."
   ]
  },
  {
   "cell_type": "code",
   "execution_count": 16,
   "id": "0da76e3c-1ae5-42d5-a41d-c454dbc1e397",
   "metadata": {},
   "outputs": [
    {
     "name": "stdout",
     "output_type": "stream",
     "text": [
      "Product of all elements: 120\n"
     ]
    }
   ],
   "source": [
    "from functools import reduce\n",
    "def multiply(x, y):\n",
    "    return x * y\n",
    "\n",
    "numbers = [1, 2, 3, 4, 5]\n",
    "\n",
    "product = reduce(multiply, numbers)\n",
    "\n",
    "print(\"Product of all elements:\", product)"
   ]
  },
  {
   "cell_type": "code",
   "execution_count": null,
   "id": "d88b65b1-1294-4d6a-9aab-034c241ff474",
   "metadata": {},
   "outputs": [],
   "source": []
  },
  {
   "cell_type": "code",
   "execution_count": null,
   "id": "5232476d-0e7d-4a51-833e-e72494f58af5",
   "metadata": {},
   "outputs": [],
   "source": []
  },
  {
   "cell_type": "markdown",
   "id": "ff9ab016-136d-4f66-be49-33d397f6fdf4",
   "metadata": {},
   "source": [
    "Function Documentation and Best Practices:\n"
   ]
  },
  {
   "cell_type": "markdown",
   "id": "e0407757-541a-483b-ba5a-31aa749bf6f4",
   "metadata": {},
   "source": [
    "1. Explain the purpose of docstrings in Python functions and how to write them.\n"
   ]
  },
  {
   "cell_type": "markdown",
   "id": "4d15d52b-a126-4d65-8c8c-7c3f2c0d2a6c",
   "metadata": {},
   "source": [
    "Docstrings in Python functions serve the purpose of providing documentation and information about the function's purpose, usage, parameters, return values, and any other relevant details. They are a form of documentation string that can be accessed programmatically using the __doc__ attribute or through tools like the built-in help() function.\n",
    "\n",
    "Here's why docstrings are useful:\n",
    "\n",
    "1. Documentation: Docstrings serve as a concise and clear way to document the functionality and usage of a function, making it easier for other programmers (including your future self) to understand how to use the function correctly.\n",
    "2. Readability: Well-written docstrings improve the readability of your code by providing context and explanations directly within the code itself.\n",
    "3. Documentation Generation: Docstrings can be automatically extracted by documentation generation tools (e.g., Sphinx) to generate formal documentation for your codebase.\n",
    "\n",
    "Here's how to write docstrings in Python functions:\n",
    "\n",
    "1. Docstrings are written as string literals (enclosed in triple quotes \"\"\") immediately after the function definition line.\n",
    "2. The docstring should provide a clear and concise description of the function's purpose and behavior.\n",
    "3. It can include sections such as Parameters, Returns, Raises, Examples, Usage, Notes, etc., to provide detailed information about the function's usage and behavior.\n",
    "4. Docstrings should follow a consistent style guidE."
   ]
  },
  {
   "cell_type": "code",
   "execution_count": null,
   "id": "10cb1919-5979-44c6-988b-6fe253c9fc87",
   "metadata": {},
   "outputs": [],
   "source": []
  },
  {
   "cell_type": "code",
   "execution_count": null,
   "id": "16badfad-c4f2-4167-8bf1-77bc3e57ecc8",
   "metadata": {},
   "outputs": [],
   "source": []
  },
  {
   "cell_type": "code",
   "execution_count": null,
   "id": "cc78f062-71b3-4da5-a8bc-b13ea6879326",
   "metadata": {},
   "outputs": [],
   "source": []
  },
  {
   "cell_type": "markdown",
   "id": "495d4678-8fbd-4495-b6cc-2a938d039092",
   "metadata": {},
   "source": [
    "2. Describe some best practices for naming functions and variables in Python, including naming conventions and guidelines.\n"
   ]
  },
  {
   "cell_type": "markdown",
   "id": "dc3d09e3-1ba3-4bcb-9668-63cd9e6f2709",
   "metadata": {},
   "source": [
    "Naming functions and variables in Python is crucial for writing clean, readable, and maintainable code. Following best practices for naming conventions and guidelines ensures consistency and clarity throughout your codebase. Here are some best practices for naming functions and variables in Python:\n",
    "\n",
    "1. Use Descriptive Names: Choose names that accurately describe the purpose or functionality of the function or variable. Avoid generic names like temp, foo, or bar.\n",
    "\n",
    "2. Follow PEP 8: Adhere to the guidelines outlined in PEP 8, the official Python style guide. Some key points from PEP 8 regarding naming conventions include:\n",
    "\n",
    " 1. Use lowercase letters for variable names and lowercase letters with underscores for function names (snake_case).\n",
    " 2. Use descriptive names with multiple words separated by underscores for readability.\n",
    " 3. Avoid using single character names except for simple loop iterators (i, j, k) or common conventions (x, y, z for coordinates).\n",
    " 4. Class names should follow the CapWords convention (CamelCase), with the first letter of each word capitalized.\n",
    "3. Be Consistent: Maintain consistency in naming throughout your codebase. Choose a naming style and stick to it. Consistency makes your code easier to understand and maintain.\n",
    "\n",
    "4. Use Verb-Noun Naming for Functions: Function names should typically start with a verb that describes the action performed by the function, followed by a noun that describes the object or subject of the action. For example, calculate_total, print_report, get_user_input.\n",
    "\n",
    "5. Avoid Abbreviations: Avoid using abbreviations or acronyms unless they are widely understood and commonly used in the problem domain. Clear and explicit names are preferred over cryptic abbreviations.\n",
    "\n",
    "6. Use Meaningful Variable Names: Choose variable names that convey the purpose or meaning of the data they represent. For example, use customer_name instead of name and total_sales instead of sales.\n",
    "\n",
    "7. Use Constants for Constants: Use uppercase letters with underscores for constants to distinguish them from variables. For example, MAX_ITERATIONS, PI, DEFAULT_TIMEOUT.\n",
    "\n",
    "8. Avoid Reserved Keywords: Avoid using reserved keywords or built-in function names as variable or function names to prevent conflicts and confusion.\n",
    "\n",
    "9. Consider Function Length: Functions should ideally be short and focused on a single task. If a function becomes too long or complex, consider refactoring it into smaller, more modular functions with descriptive names.\n",
    "\n",
    "10. Use Comments for Clarity: While good naming is essential, sometimes additional clarification is needed. Use comments to provide context or explain the purpose of functions or variables when necessary."
   ]
  },
  {
   "cell_type": "code",
   "execution_count": null,
   "id": "45b68644-ff1e-4905-bc7c-09b267adebfa",
   "metadata": {},
   "outputs": [],
   "source": []
  }
 ],
 "metadata": {
  "kernelspec": {
   "display_name": "Python 3 (ipykernel)",
   "language": "python",
   "name": "python3"
  },
  "language_info": {
   "codemirror_mode": {
    "name": "ipython",
    "version": 3
   },
   "file_extension": ".py",
   "mimetype": "text/x-python",
   "name": "python",
   "nbconvert_exporter": "python",
   "pygments_lexer": "ipython3",
   "version": "3.10.8"
  }
 },
 "nbformat": 4,
 "nbformat_minor": 5
}
